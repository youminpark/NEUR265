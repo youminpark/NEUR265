{
  "nbformat": 4,
  "nbformat_minor": 0,
  "metadata": {
    "colab": {
      "provenance": [],
      "include_colab_link": true
    },
    "kernelspec": {
      "name": "python3",
      "display_name": "Python 3"
    },
    "language_info": {
      "name": "python"
    }
  },
  "cells": [
    {
      "cell_type": "markdown",
      "metadata": {
        "id": "view-in-github",
        "colab_type": "text"
      },
      "source": [
        "<a href=\"https://colab.research.google.com/github/youminpark/NEUR265/blob/main/homework/coding_homework_1.ipynb\" target=\"_parent\"><img src=\"https://colab.research.google.com/assets/colab-badge.svg\" alt=\"Open In Colab\"/></a>"
      ]
    },
    {
      "cell_type": "markdown",
      "source": [
        "# Coding Homework #1\n",
        "\n",
        "**Instructions** (Note: it is very important you follow these instructions in order!)\n",
        "\n",
        "1. Run the first *Code Cell* below.\n",
        "\n",
        "2. Make a *Markdown Cell* that contains the following information:\n",
        "  * Your name (small header)\n",
        "  * The name of this class (italicized)\n",
        "  * The date (bolded)\n",
        "\n",
        "3. **Important!**: For each *Code Cell* that you create, make at least one line of code with a `#` in front of it that describes what your code does.\n",
        "\n",
        "4. Make a *Code Cell* that turns `v_rest_sst.csv` into a `Pandas DataFrame` called `pandas_data1`, and `v_rest_pvalb.csv` into a `Pandas DataFrame` called `pandas_data2`. Recall that we covered how to import `.csv` files as `Pandas DataFrames` in our in-class coding activity on January 31st.\n",
        "\n",
        "5. Make a *Code Cell* that converts `pandas_data1` into a `list` variable called `data1`, and converts `pandas_data2` into a `list` variable called `data2`. The following syntax is an example of how to do this:\n",
        "\n",
        "\n",
        "```\n",
        "data1 = pandas_data1.values.tolist()\n",
        "```\n",
        "\n",
        "6. When you convert a `Pandas DataFrame` into a `list`, it brackets each individual element - we don't want that! To get around this issue, make a *Code Cell* that flattens `data1` and `data2` using the `numpy.squeeze()` function. Your first *Code Cell* imported the `NumPy` module as `np`, so we can use the following code to flatten `data1`:\n",
        "\n",
        "\n",
        "```\n",
        "data1 = np.squeeze(data1)\n",
        "```\n",
        "&nbsp;&nbsp;&nbsp;&nbsp;&nbsp;&nbsp;&nbsp;&nbsp;&nbsp;&nbsp;Repeat this for `data2`.\n",
        "\n",
        "7. Make a *Code Cell* that prints the length of `data1`.\n",
        "\n",
        "8. Make a *Code Cell* that prints the 3rd, 4th, 5th, and 6th elements of `data2`.\n",
        "\n",
        "9. Make a *Code Cell* that prints the second-to-last and last elements of `data1` (use negative indexing).\n",
        "\n",
        "10. Make a *Code Cell* that prints the `type` of `data2` by using the `type` function.\n",
        "\n",
        "11. The first *Code Cell* you ran imports a module called `matplotlib`. In a new *Code Cell*, use `matplotlib` to make a histogram of `data1`. You can use the syntax `plt.hist()` to do this (remember that the variable you are applying the function to goes inside of the parentheses).\n",
        "\n",
        "12. In a new *Code Cell*, re-make your histogram and use the `plt.xlabel()` and `plt.ylabel()` functions to label your axes.\n",
        "\n",
        "13. In a new *Code Cell*, follow the instructions in steps 11 and 12 to make another histogram with axis labels for `data2`.\n",
        "\n",
        "14. In a new *Markdown Cell*, write a brief description of any differences that you observe between your two histograms. Does one group of cells seem to have a higher/lower resting membrane potential than the other group of cells?\n",
        "\n",
        "15. In a new *Code Cell*, create a new variable called `data3`. Let `data3` be a list containing both `data1` and `data2`.\n",
        "\n",
        "16. Make a *Code Cell* that prints the last element of `data2`. You must index `data3` to do this.\n",
        "\n",
        "17. Save a copy of this notebook to your GitHub repo with the title \"coding_homework_1.pynb\"."
      ],
      "metadata": {
        "id": "R8xCV2iP1KZ_"
      }
    },
    {
      "cell_type": "code",
      "source": [
        "# Import matplotlib\n",
        "\n",
        "from matplotlib import pyplot as plt\n",
        "\n",
        "import pandas as pd\n",
        "\n",
        "import numpy as np"
      ],
      "metadata": {
        "id": "48IPWJIt59-Y"
      },
      "execution_count": 1,
      "outputs": []
    },
    {
      "cell_type": "markdown",
      "source": [
        "# Problem 2\n",
        "### Youmin Park\n",
        "*NEUR 265: Intro to Neural Data Analysis*\n",
        "\n",
        "**February 5, 2024**"
      ],
      "metadata": {
        "id": "NPUbzeJu8LcY"
      }
    },
    {
      "cell_type": "code",
      "source": [
        "'''\n",
        "Make a Code Cell that turns v_rest_sst.csv into a Pandas DataFrame called pandas_data1, and v_rest_pvalb.csv into a Pandas DataFrame called pandas_data2.\n",
        "Recall that we covered how to import .csv files as Pandas DataFrames in our in-class coding activity on January 31st.\n",
        "'''\n",
        "#Problems 3 and 4\n",
        "\n",
        "url1 = 'https://raw.githubusercontent.com/youminpark/NEUR265/main/v_rest_sst.csv'\n",
        "pandas_data1 = pd.read_csv(url1)\n",
        "url2 = 'https://raw.githubusercontent.com/youminpark/NEUR265/main/v_rest_pvalb.csv'\n",
        "pandas_data2 = pd.read_csv(url2)"
      ],
      "metadata": {
        "id": "bFzyF3Bn-KKo"
      },
      "execution_count": 2,
      "outputs": []
    },
    {
      "cell_type": "code",
      "source": [
        "#Problem 5\n",
        "data1 = pandas_data1.values.tolist()\n",
        "data2 = pandas_data2.values.tolist()"
      ],
      "metadata": {
        "id": "Cf5K5Dmp_4X5"
      },
      "execution_count": 3,
      "outputs": []
    },
    {
      "cell_type": "code",
      "source": [
        "#Problem 6\n",
        "data1 = np.squeeze(data1)\n",
        "data2 = np.squeeze(data2)"
      ],
      "metadata": {
        "id": "wJZ5zIWHAGrB"
      },
      "execution_count": 4,
      "outputs": []
    },
    {
      "cell_type": "code",
      "source": [
        "#Problem 7\n",
        "len(data1)"
      ],
      "metadata": {
        "colab": {
          "base_uri": "https://localhost:8080/"
        },
        "id": "XSCGCC0FAV8p",
        "outputId": "d59237e0-a4e0-461d-951a-2796e6ca0fac"
      },
      "execution_count": 5,
      "outputs": [
        {
          "output_type": "execute_result",
          "data": {
            "text/plain": [
              "499"
            ]
          },
          "metadata": {},
          "execution_count": 5
        }
      ]
    },
    {
      "cell_type": "code",
      "source": [
        "#Problem 8\n",
        "thirdsixth = data2[1:5]\n",
        "thirdsixth"
      ],
      "metadata": {
        "colab": {
          "base_uri": "https://localhost:8080/"
        },
        "id": "DMfhiEE_AimS",
        "outputId": "7bca3924-432e-45b0-fcbc-fd9bc8b5138a"
      },
      "execution_count": 8,
      "outputs": [
        {
          "output_type": "execute_result",
          "data": {
            "text/plain": [
              "array([-75.71939359, -72.36807022, -63.09300825, -75.5469301 ])"
            ]
          },
          "metadata": {},
          "execution_count": 8
        }
      ]
    },
    {
      "cell_type": "code",
      "source": [
        "#Problem 9\n",
        "#negative indexing is my prison\n",
        "penUltimate = data1[-2]\n",
        "Ultimate = data1[-1]\n",
        "\n",
        "print(penUltimate)\n",
        "print(Ultimate)"
      ],
      "metadata": {
        "colab": {
          "base_uri": "https://localhost:8080/"
        },
        "id": "aNzx7zPtBAhC",
        "outputId": "2f0fc5b0-91e2-47ff-9dc9-a608a811e8e8"
      },
      "execution_count": 28,
      "outputs": [
        {
          "output_type": "stream",
          "name": "stdout",
          "text": [
            "-65.59535842\n",
            "-75.10678711\n"
          ]
        }
      ]
    },
    {
      "cell_type": "code",
      "source": [
        "#Problem 10\n",
        "type(data2)"
      ],
      "metadata": {
        "colab": {
          "base_uri": "https://localhost:8080/"
        },
        "id": "3bB1mapMEvRT",
        "outputId": "62add534-70e8-4bf0-d5f2-7125b61b6239"
      },
      "execution_count": 29,
      "outputs": [
        {
          "output_type": "execute_result",
          "data": {
            "text/plain": [
              "numpy.ndarray"
            ]
          },
          "metadata": {},
          "execution_count": 29
        }
      ]
    },
    {
      "cell_type": "code",
      "source": [
        "#Problem 11\n",
        "plt.hist(data1)"
      ],
      "metadata": {
        "colab": {
          "base_uri": "https://localhost:8080/",
          "height": 517
        },
        "id": "jUPf3huiE1JL",
        "outputId": "5b0897ce-2dd2-40d5-fca5-96603b030cbe"
      },
      "execution_count": 31,
      "outputs": [
        {
          "output_type": "execute_result",
          "data": {
            "text/plain": [
              "(array([  3.,   4.,  23.,  77., 125., 107.,  90.,  42.,  21.,   7.]),\n",
              " array([-88.07835484, -84.19758717, -80.31681949, -76.43605182,\n",
              "        -72.55528415, -68.67451648, -64.7937488 , -60.91298113,\n",
              "        -57.03221346, -53.15144578, -49.27067811]),\n",
              " <BarContainer object of 10 artists>)"
            ]
          },
          "metadata": {},
          "execution_count": 31
        },
        {
          "output_type": "display_data",
          "data": {
            "text/plain": [
              "<Figure size 640x480 with 1 Axes>"
            ],
            "image/png": "[encoded data removed]"
          },
          "metadata": {}
        }
      ]
    },
    {
      "cell_type": "code",
      "source": [
        "#Problem 12\n",
        "plt.hist(data1)\n",
        "plt.xlabel('Resting Potential')\n",
        "plt.ylabel('Occurrences')"
      ],
      "metadata": {
        "colab": {
          "base_uri": "https://localhost:8080/",
          "height": 466
        },
        "id": "8QfzFRXVE9Pr",
        "outputId": "3f0fbc42-68ac-4302-91ee-e694fa498768"
      },
      "execution_count": 33,
      "outputs": [
        {
          "output_type": "execute_result",
          "data": {
            "text/plain": [
              "Text(0, 0.5, 'Occurrences')"
            ]
          },
          "metadata": {},
          "execution_count": 33
        },
        {
          "output_type": "display_data",
          "data": {
            "text/plain": [
              "<Figure size 640x480 with 1 Axes>"
            ],
            "image/png": "[encoded data removed]"
          },
          "metadata": {}
        }
      ]
    },
    {
      "cell_type": "code",
      "source": [
        "#Problem 13\n",
        "plt.hist(data2)"
      ],
      "metadata": {
        "colab": {
          "base_uri": "https://localhost:8080/",
          "height": 517
        },
        "id": "uYek_JDeFEOa",
        "outputId": "68e2241d-c64b-440c-9fb2-28fa54c1ea56"
      },
      "execution_count": 34,
      "outputs": [
        {
          "output_type": "execute_result",
          "data": {
            "text/plain": [
              "(array([  7.,  28., 117., 148.,  96.,  66.,  26.,   6.,   4.,   1.]),\n",
              " array([-85.27155304, -81.26054661, -77.24954018, -73.23853375,\n",
              "        -69.22752732, -65.2165209 , -61.20551447, -57.19450804,\n",
              "        -53.18350161, -49.17249518, -45.16148875]),\n",
              " <BarContainer object of 10 artists>)"
            ]
          },
          "metadata": {},
          "execution_count": 34
        },
        {
          "output_type": "display_data",
          "data": {
            "text/plain": [
              "<Figure size 640x480 with 1 Axes>"
            ],
            "image/png": "[encoded data removed]"
          },
          "metadata": {}
        }
      ]
    },
    {
      "cell_type": "code",
      "source": [
        "#Problem 13\n",
        "plt.hist(data2)\n",
        "plt.xlabel('Resting Potential')\n",
        "plt.ylabel('Occurrences')"
      ],
      "metadata": {
        "colab": {
          "base_uri": "https://localhost:8080/",
          "height": 466
        },
        "id": "ZQRVF-i5FVDL",
        "outputId": "a36bfb66-06cf-4c07-fa68-7b980b193592"
      },
      "execution_count": 35,
      "outputs": [
        {
          "output_type": "execute_result",
          "data": {
            "text/plain": [
              "Text(0, 0.5, 'Occurrences')"
            ]
          },
          "metadata": {},
          "execution_count": 35
        },
        {
          "output_type": "display_data",
          "data": {
            "text/plain": [
              "<Figure size 640x480 with 1 Axes>"
            ],
            "image/png": "[encoded data removed]"
          },
          "metadata": {}
        }
      ]
    },
    {
      "cell_type": "markdown",
      "source": [
        "##Problem 14\n",
        "* The average resting potential for second data set is lower compared to the first set.\n",
        "* There was a greater number of occurrences for mid-range values in the second data set.\n",
        "* There is a greater right skew in the distribution of the second set compared to the first."
      ],
      "metadata": {
        "id": "aXubhMikFaSb"
      }
    },
    {
      "cell_type": "code",
      "source": [
        "#Problem 15\n",
        "data3 = [data1, data2]\n",
        "\n",
        "#Problem 16\n",
        "data2Ultimate = (data3 [1][-1])\n",
        "data2Ultimate"
      ],
      "metadata": {
        "colab": {
          "base_uri": "https://localhost:8080/"
        },
        "id": "n5z3B4n_GEXr",
        "outputId": "0a0b2af0-83bf-4bdd-aa7f-5a1cd8a3c77b"
      },
      "execution_count": 38,
      "outputs": [
        {
          "output_type": "execute_result",
          "data": {
            "text/plain": [
              "-54.08427915"
            ]
          },
          "metadata": {},
          "execution_count": 38
        }
      ]
    }
  ]
}