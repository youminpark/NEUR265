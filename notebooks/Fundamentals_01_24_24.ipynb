{
  "nbformat": 4,
  "nbformat_minor": 0,
  "metadata": {
    "colab": {
      "provenance": [],
      "include_colab_link": true
    },
    "kernelspec": {
      "name": "python3",
      "display_name": "Python 3"
    },
    "language_info": {
      "name": "python"
    }
  },
  "cells": [
    {
      "cell_type": "markdown",
      "metadata": {
        "id": "view-in-github",
        "colab_type": "text"
      },
      "source": [
        "<a href=\"https://colab.research.google.com/github/youminpark/NEUR265/blob/main/notebooks/Fundamentals_01_24_24.ipynb\" target=\"_parent\"><img src=\"https://colab.research.google.com/assets/colab-badge.svg\" alt=\"Open In Colab\"/></a>"
      ]
    },
    {
      "cell_type": "markdown",
      "source": [
        "# Programming Fundamentals\n",
        "\n",
        "## Syntax, Expressions, and Variables\n",
        "\n",
        "This notebook will introduce you to Google Colaboratory. We'll also go over the basics of Python syntax.\n",
        "\n",
        "### At the end of this notebook, you'll be able to:\n",
        "* Use Google Colab to run Python3 code\n",
        "* Use basic <b>arithmetic operations</b> in Python\n",
        "* Assign <b>variables</b> and manipulate them\n",
        "* Recognize different **types** of variables\n",
        "\n",
        "\n"
      ],
      "metadata": {
        "id": "aie25Oh_I_Ic"
      }
    },
    {
      "cell_type": "markdown",
      "source": [
        "# What is Google Colaboratory?\n",
        "\n",
        "Google Colaboratory is a Jupyter notebook that is hosted by Google's servers.\n",
        "\n",
        "A <b>Jupyter notebook</b> is a way to combine executable code, code ouputs, and text into one connected file.\n",
        "\n",
        "When you run code in Colaboratory, the code is being executed by CPUs (or GPUs) that belong to Google. The advantage of this is that you don't need to use any **local** resources to run your code.\n",
        "\n",
        "Jupyter notebooks have two types of cells:\n",
        "\n",
        "* A **Markdown** cell (like this one) - used for adding text to your notebook\n",
        "* A **Code** cell - used for executing Python code and viewing output\n",
        "\n"
      ],
      "metadata": {
        "id": "zbOhwC1-KFsr"
      }
    },
    {
      "cell_type": "markdown",
      "source": [
        "### Using Markdown\n",
        "\n",
        "Markdown is useful because it can be formatted using simple symbols.\n",
        "\n",
        "* You can create bulleted lists using asterisks.\n",
        "* Similarly, you can create numbered lists using numbers.\n",
        "* You can **bold** with two asterisks or underscores on either side ('**bold**') or *italicize* with one asterisk or underscore ('*italicize*')\n",
        "* Pound signs (#) create headers. More pound signs means a smaller header.\n",
        "\n",
        "><b>Task:</b> Edit the markdown cell below with a quick biography of yourself. You should have your name as a big header, a short quippy subtitle for yourself as a smaller header, and three bullet points that use both <b>bold</b> and <i>italic</i>.<div>\n",
        "\n"
      ],
      "metadata": {
        "id": "t4WBwNQXLlwl"
      }
    },
    {
      "cell_type": "markdown",
      "source": [
        "\n",
        "# Youmin Park's Fast and Loose Biopic\n",
        "#### I promise this is super cool\n",
        "* Senior Chemical Engineering Major at Lafayette College\n",
        "* Immigrated from South Korea\n",
        "* Native to Queens, NY\n",
        "* _Detests_ solving differential equations by hand\n",
        "* **BIG** fan of Panera's Green Tea\n",
        "* Experimental design is my **passion**"
      ],
      "metadata": {
        "id": "Nd8U-i-wNPIJ"
      }
    },
    {
      "cell_type": "markdown",
      "source": [
        "### Using Code cells\n",
        "\n",
        "Code cells will be read by the Python interpretor. In other words, the Python kernel will run whatever it recognizes as code within the cell.\n",
        "\n",
        "<div class=\\\"alert alert-success\\\"><b>Task:</b> Run the code cell below (see instructions within the cell)."
      ],
      "metadata": {
        "id": "iwvg2m1mNVhJ"
      }
    },
    {
      "cell_type": "code",
      "source": [
        "# In Python, anything with a \"#\" in front of it is code annotation, and is not read by the computer.\n",
        "# Run this cell by clicking in it and then pressing shift and enter/return simultaneously.\n",
        "# The line below will print a message for us. After you import it, Python will print a message\n",
        "# (having printed messages like these is a really nice way to check that your cell actually ran!)\n",
        "print('Nice work!')"
      ],
      "metadata": {
        "id": "MA9ZL9blNyBP",
        "outputId": "f7b6a5b5-0096-4b61-c105-bd949970cc30",
        "colab": {
          "base_uri": "https://localhost:8080/"
        }
      },
      "execution_count": 1,
      "outputs": [
        {
          "output_type": "stream",
          "name": "stdout",
          "text": [
            "Nice work!\n"
          ]
        }
      ]
    },
    {
      "cell_type": "markdown",
      "source": [
        "### Python Expressions\n",
        "\n",
        "We can perform various arithmetic operations in Python:\n",
        "\n",
        "|  Symbol  |     Operation     | Usage |\n",
        "|:--------:|:-----------------:|:-----:|\n",
        "|     +    |      Addition     |  10+2 |\n",
        "|     -    |    Subtraction    |  10-2 |\n",
        "|     *    |   Multiplication  |  10*2 |\n",
        "|     /    |      Division     |  10/2 |\n",
        "|    **    |      Exponent     | 10**2 |\n",
        "|     %    |       Modulo      | 10%2  |\n",
        "\n",
        "Notes:\n",
        "\n",
        "* The default order of operations is the same as in mathematics! (PEMDAS)\n",
        "* If you want a whole number from your division, use // instead"
      ],
      "metadata": {
        "id": "YI_QJYWIObm7"
      }
    },
    {
      "cell_type": "markdown",
      "source": [
        "><b>Task:</b> Try each of the operators above. Before using the modulo operator, predict what it will output, and make sure it produces what you expect."
      ],
      "metadata": {
        "id": "WLb61-n3QWYt"
      }
    },
    {
      "cell_type": "code",
      "source": [
        "10+2\n",
        "10-2\n",
        "10/2\n",
        "10*2\n",
        "10**2\n",
        "10%2\n",
        "11/2\n"
      ],
      "metadata": {
        "id": "4c85jl4PQxzS",
        "outputId": "ff2805af-ab4d-426f-ecbc-ad7907c828e0",
        "colab": {
          "base_uri": "https://localhost:8080/"
        }
      },
      "execution_count": 8,
      "outputs": [
        {
          "output_type": "execute_result",
          "data": {
            "text/plain": [
              "5"
            ]
          },
          "metadata": {},
          "execution_count": 8
        }
      ]
    },
    {
      "cell_type": "markdown",
      "source": [
        "## Variables\n",
        "\n",
        "Variables enable us to store a value and come back to it later. They are defined with 'name = value'. *Assignment is not the same thing as equality*, as in mathematics.\n",
        "\n",
        "### Assigning variables"
      ],
      "metadata": {
        "id": "HSx8u625Sf1Z"
      }
    },
    {
      "cell_type": "markdown",
      "source": [
        "><b>Task:</b> Create two variables: a & b. Then, use an expression that combines a and b, and assign this to c. In the end, c should be equal to 6."
      ],
      "metadata": {
        "id": "o2fDcFsDSyaO"
      }
    },
    {
      "cell_type": "code",
      "source": [
        "# Let's save a few integers and then manipulate them.\n",
        "a = 1\n",
        "b = 5\n",
        "c = a + b\n",
        "print(c)\n",
        "\n"
      ],
      "metadata": {
        "id": "37-uXk8hTAdy",
        "outputId": "a9be2c8d-b2e7-4f36-83eb-d0ee29a0bff1",
        "colab": {
          "base_uri": "https://localhost:8080/"
        }
      },
      "execution_count": 18,
      "outputs": [
        {
          "output_type": "stream",
          "name": "stdout",
          "text": [
            "6\n"
          ]
        }
      ]
    },
    {
      "cell_type": "markdown",
      "source": [
        "<b>Note</b>: Most code cells will not give you an output unless you ask for it. You can use 'print()' to output a variable or string. However, cells that *only* contain one variable will print its value.\n",
        "\n",
        "><b>Task:</b> Create a cell below and output your variable c."
      ],
      "metadata": {
        "id": "BAeAmJMYTHh4"
      }
    },
    {
      "cell_type": "code",
      "source": [
        "print(c)"
      ],
      "metadata": {
        "id": "5iZlVGBQ0DRT",
        "outputId": "fdf0d423-4fdd-41b5-f7cd-a3d0bd4502dd",
        "colab": {
          "base_uri": "https://localhost:8080/"
        }
      },
      "execution_count": 19,
      "outputs": [
        {
          "output_type": "stream",
          "name": "stdout",
          "text": [
            "6\n"
          ]
        }
      ]
    },
    {
      "cell_type": "markdown",
      "source": [
        "Usefully, you can run your cells out of order. This is useful for testing and debugging. Change your equation for 'c' above, and re-run the cell with 'c' alone to check its resulting value."
      ],
      "metadata": {
        "id": "AvV9XKkfTyvz"
      }
    },
    {
      "cell_type": "markdown",
      "source": [
        "### Types of Variables\n",
        "\n",
        "Variables can be different types. Python lets you change the type of variables (the function is in parentheses below), however, *you cannot combine types*.\n",
        "\n",
        "* Integers ('int')\n",
        "* String ('str'): letters, numbers, symbols, spaces\n",
        "* Float ('float'): any number with a decimal point (floating point number)\n",
        "\n",
        "You can check what type your variable is by using 'type(variable)'.\n",
        "\n",
        "<b>Note</b>: If you ever need help using a function (e.g., 'type') in Jupyter notebook, you can enter the function followed by a question mark or 'help(function)'. For example, 'type?' or 'help(type)'\n",
        "\n",
        "<b>Hint</b>: You can wrap commands in other commands. For example, we could write 'print(type(all))'.\n",
        "\n",
        "><b>Task:</b> In the cell below, check the type of your variable c."
      ],
      "metadata": {
        "id": "kpMtiafvT9fI"
      }
    },
    {
      "cell_type": "code",
      "source": [
        "# Check the type of c here\n",
        "type(c)"
      ],
      "metadata": {
        "id": "gaqtplZbU-7F",
        "outputId": "4f977822-8556-4317-c46e-f84e2d470d4d",
        "colab": {
          "base_uri": "https://localhost:8080/"
        }
      },
      "execution_count": 14,
      "outputs": [
        {
          "output_type": "execute_result",
          "data": {
            "text/plain": [
              "int"
            ]
          },
          "metadata": {},
          "execution_count": 14
        }
      ]
    },
    {
      "cell_type": "markdown",
      "source": [
        "Different operators in Python will produce different types of variables.\n",
        "\n",
        "><b>Task:</b> Compare the results of 12/2 and 12//2 by assigning the results of these operations to two different variables. Then, use the `int` and `float` functions to transform these variables into an integer and a float called `result_int` and `result_float`, respectively.\n",
        "\n",
        "\n",
        "\n",
        "\n",
        "\n",
        "\n",
        "\n"
      ],
      "metadata": {
        "id": "-WNab5H-VBAS"
      }
    },
    {
      "cell_type": "code",
      "source": [
        "# Write your code here\n",
        "silly = 12/2  # has decimals\n",
        "goose = 12//2 # truncated\n",
        "\n",
        "#type(silly)\n",
        "#type(goose)\n",
        "\n",
        "result_int = int(silly)\n",
        "result_float = float(goose)\n",
        "\n",
        "print(result_int)\n",
        "print(result_float)"
      ],
      "metadata": {
        "id": "yrrqqIhGVf3V",
        "outputId": "a66f5536-2411-43c0-f917-84541efd27f5",
        "colab": {
          "base_uri": "https://localhost:8080/"
        }
      },
      "execution_count": 26,
      "outputs": [
        {
          "output_type": "stream",
          "name": "stdout",
          "text": [
            "6\n",
            "6.0\n"
          ]
        }
      ]
    },
    {
      "cell_type": "markdown",
      "source": [
        "><b>Task:</b> What happens when you add a float (result_float) and an integer (result_int)? Test below."
      ],
      "metadata": {
        "id": "Y1pTAkeYVmf0"
      }
    },
    {
      "cell_type": "code",
      "source": [
        "# Add your float and int here\n",
        "silly + goose"
      ],
      "metadata": {
        "id": "5vBDV-pCVtnj",
        "outputId": "8b7c428a-f9fb-4a79-fe3d-5caf8e992d89",
        "colab": {
          "base_uri": "https://localhost:8080/"
        }
      },
      "execution_count": 30,
      "outputs": [
        {
          "output_type": "execute_result",
          "data": {
            "text/plain": [
              "12.0"
            ]
          },
          "metadata": {},
          "execution_count": 30
        }
      ]
    },
    {
      "cell_type": "markdown",
      "source": [
        "We can use the command `round()` to round a float number to a whole number.\n",
        "\n",
        "><b>Task:</b> Try round with a float below, and print your result. What kind of variable does this create?"
      ],
      "metadata": {
        "id": "YHZNujEAVw6o"
      }
    },
    {
      "cell_type": "code",
      "source": [
        "#round(silly)\n",
        "sillier = 6.9\n",
        "round(sillier)"
      ],
      "metadata": {
        "id": "6DO9GyDS10Np",
        "outputId": "91d6f951-d5e7-4938-933b-94f2a97816f4",
        "colab": {
          "base_uri": "https://localhost:8080/"
        }
      },
      "execution_count": 32,
      "outputs": [
        {
          "output_type": "execute_result",
          "data": {
            "text/plain": [
              "7"
            ]
          },
          "metadata": {},
          "execution_count": 32
        }
      ]
    },
    {
      "cell_type": "markdown",
      "source": [
        "### Working with Strings\n",
        "\n",
        "Strings are represented by matching beginning & ending quotation marks. A few useful notes:\n",
        "\n",
        "* Quotation marks can be single (`'`) or double (`\"`); use single within double (we'll stick to single, most of the time)\n",
        "  * One single quotation mark within a pair of double quotation marks will be interpreted as an apostrophe (a single quotation mark).\n",
        "* Use `\\\\` to keep single or double quotation mark, instead of reading it as a string (e.g., for a quote or an apostrophe)\n",
        "* <b>Concatenate</b> strings (can be variables) with +\n",
        "\n",
        "><b>Task:</b> Assign your first name to a variable called `d` and your last name to a variable called `e`. Add the two variables together. What is the output? Multiply the two variables. What is the output?"
      ],
      "metadata": {
        "id": "7bZjKBWSV7sg"
      }
    },
    {
      "cell_type": "code",
      "source": [
        "# Create your variables here\n",
        "d = 'Youmin'\n",
        "e = 'Park'\n",
        "\n",
        "# Now, add them together\n",
        "print (d + e)\n",
        "\n"
      ],
      "metadata": {
        "id": "6TKYJxGCXcUO",
        "outputId": "e3e36884-565e-49c5-a2e5-e3f4a40c6dfd",
        "colab": {
          "base_uri": "https://localhost:8080/"
        }
      },
      "execution_count": 35,
      "outputs": [
        {
          "output_type": "stream",
          "name": "stdout",
          "text": [
            "YouminPark\n"
          ]
        }
      ]
    },
    {
      "cell_type": "code",
      "source": [
        "# Finally, multiply them together\n",
        "print(d * e)"
      ],
      "metadata": {
        "id": "KCitRrrcNX4Y",
        "outputId": "4e35a85c-4acf-4a7f-fa7e-a71eb4d31033",
        "colab": {
          "base_uri": "https://localhost:8080/",
          "height": 191
        }
      },
      "execution_count": 37,
      "outputs": [
        {
          "output_type": "error",
          "ename": "TypeError",
          "evalue": "can't multiply sequence by non-int of type 'str'",
          "traceback": [
            "\u001b[0;31m---------------------------------------------------------------------------\u001b[0m",
            "\u001b[0;31mTypeError\u001b[0m                                 Traceback (most recent call last)",
            "\u001b[0;32m<ipython-input-37-70255ae4bd66>\u001b[0m in \u001b[0;36m<cell line: 2>\u001b[0;34m()\u001b[0m\n\u001b[1;32m      1\u001b[0m \u001b[0;31m# Finally, multiply them together\u001b[0m\u001b[0;34m\u001b[0m\u001b[0;34m\u001b[0m\u001b[0m\n\u001b[0;32m----> 2\u001b[0;31m \u001b[0mprint\u001b[0m\u001b[0;34m(\u001b[0m\u001b[0md\u001b[0m \u001b[0;34m*\u001b[0m \u001b[0me\u001b[0m\u001b[0;34m)\u001b[0m\u001b[0;34m\u001b[0m\u001b[0;34m\u001b[0m\u001b[0m\n\u001b[0m",
            "\u001b[0;31mTypeError\u001b[0m: can't multiply sequence by non-int of type 'str'"
          ]
        }
      ]
    },
    {
      "cell_type": "markdown",
      "source": [
        "><b>Task:</b> Create a new Code cell, and try adding '80' to your `d` variable. What is the output? Try multiplying your `e` variable by 80. What is the output? Try dividing your `e` variable by 80. What is the output?"
      ],
      "metadata": {
        "id": "GtC3eqPWKCRu"
      }
    },
    {
      "cell_type": "code",
      "source": [
        "d*80"
      ],
      "metadata": {
        "id": "tAmb0GiJ5Kre",
        "outputId": "1fcf85a0-93ea-44dd-f37a-c01fe363fb0f",
        "colab": {
          "base_uri": "https://localhost:8080/",
          "height": 86
        }
      },
      "execution_count": 42,
      "outputs": [
        {
          "output_type": "execute_result",
          "data": {
            "text/plain": [
              "'YouminYouminYouminYouminYouminYouminYouminYouminYouminYouminYouminYouminYouminYouminYouminYouminYouminYouminYouminYouminYouminYouminYouminYouminYouminYouminYouminYouminYouminYouminYouminYouminYouminYouminYouminYouminYouminYouminYouminYouminYouminYouminYouminYouminYouminYouminYouminYouminYouminYouminYouminYouminYouminYouminYouminYouminYouminYouminYouminYouminYouminYouminYouminYouminYouminYouminYouminYouminYouminYouminYouminYouminYouminYouminYouminYouminYouminYouminYouminYoumin'"
            ],
            "application/vnd.google.colaboratory.intrinsic+json": {
              "type": "string"
            }
          },
          "metadata": {},
          "execution_count": 42
        }
      ]
    },
    {
      "cell_type": "markdown",
      "source": [
        "We can use the `print` function to show more than one variable, as well as variables of different types. You can separate items within `print` by commas to print multiple variables, e.g. `print(a,b,\"name\")`. You can also print variables within strings by using `print(f)`, and calling variables in `{}`.\n",
        "\n",
        "><b>Task:</b> Create a variable, `age`, that is equal to your age in years. Print a sentence that says `'My name is {first name} {last name}, and I am {age} years old'.`"
      ],
      "metadata": {
        "id": "F1Ro2oFrLFum"
      }
    },
    {
      "cell_type": "code",
      "source": [
        "# Create your sentence here\n",
        "age = 21\n",
        "# print('My name is',d,e,'and I am', age, 'years old')\n",
        "print(f'My name is {d} {e} and I am {age} years old')"
      ],
      "metadata": {
        "id": "TVBFVmUGMblv",
        "outputId": "d2fe5ecb-0d84-4c15-f3ce-f9239da2911f",
        "colab": {
          "base_uri": "https://localhost:8080/"
        }
      },
      "execution_count": 54,
      "outputs": [
        {
          "output_type": "stream",
          "name": "stdout",
          "text": [
            "My name is Youmin Park and I am 21 years old\n"
          ]
        }
      ]
    },
    {
      "cell_type": "markdown",
      "source": [
        "As we're working through this notebook, the kernel also stores your namespace - all the variables and code that you have declared (executed). You can check which variables and functions are available with the command `%who`, or `%whos` (for more detailed information)\n",
        "\n",
        "><b>Task:</b> Use the `who(s)` command to check your variables below."
      ],
      "metadata": {
        "id": "7H5JRwPYN92F"
      }
    },
    {
      "cell_type": "code",
      "source": [
        "%whos"
      ],
      "metadata": {
        "id": "GVt_FUGjN5dI",
        "outputId": "9a3326b1-16f2-4893-d5fa-3b0d3a4b33e4",
        "colab": {
          "base_uri": "https://localhost:8080/"
        }
      },
      "execution_count": 57,
      "outputs": [
        {
          "output_type": "stream",
          "name": "stdout",
          "text": [
            "Variable       Type     Data/Info\n",
            "---------------------------------\n",
            "a              int      1\n",
            "age            int      21\n",
            "b              int      5\n",
            "c              int      6\n",
            "d              str      Youmin\n",
            "e              str      Park\n",
            "goose          int      6\n",
            "result_float   float    6.0\n",
            "result_int     int      6\n",
            "sentence       str      My name is {d} {e}, and I am {age} years old\n",
            "sillier        float    6.9\n",
            "silly          float    6.0\n"
          ]
        }
      ]
    },
    {
      "cell_type": "markdown",
      "source": [
        "## Declaring variables cheat sheet\n",
        "\n",
        "Not *every* word or combination of words and numbers can be a variable name. For example, Python has a list of <b>reserved keywords</b> that cannot be variable names:\n",
        "\n",
        "<table type=\\\"text/css\\\">\n",
        "<tr>\n",
        "<td><code>False</code></td>\n",
        "<td><code>None</code></td>\n",
        "<td><code>True</code></td>\n",
        "<td><code>and</code></td>\n",
        "<td><code>as</code></td>\n",
        "<td><code>assert</code></td>\n",
        "<td><code>break</code></td>\n",
        "</tr>\n",
        "<tr>\n",
        "<td><code>class</code></td>\n",
        "<td><code>continue</code></td>\n",
        "<td><code>def</code></td>\n",
        "<td><code>del</code></td>\n",
        "<td><code>elif</code></td>\n",
        "<td><code>else</code></td>\n",
        "<td><code>except</code></td>\n",
        "</tr>\n",
        "<tr>\n",
        "<td><code>finally</code></td>\n",
        "<td><code>for</code></td>\n",
        "<td><code>from</code></td>\n",
        "<td><code>global</code></td>\n",
        "<td><code>if</code></td>\n",
        "<td><code>import</code></td>\n",
        "<td><code>in</code></td>\n",
        "</tr>\n",
        "<tr>\n",
        "<td><code>is</code></td>\n",
        "<td><code>lambda</code></td>\n",
        "<td><code>nonlocal</code></td>\n",
        "<td><code>not</code></td>\n",
        "<td><code>or</code></td>\n",
        "<td><code>pass</code></td>\n",
        "<td><code>raise</code></td>\n",
        "</tr>\n",
        "<tr>\n",
        "<td><code>return</code></td>\n",
        "<td><code>try</code></td>\n",
        "<td><code>while</code></td>\n",
        "<td><code>with</code></td>\n",
        "<td><code>yield</code></td>\n",
        "</tr>   \n",
        "</table>"
      ],
      "metadata": {
        "id": "JqbcS3BHO0nD"
      }
    },
    {
      "cell_type": "markdown",
      "source": [
        "><b>Task:</b> Attempt to create variables with three different reserved words above. Observe what error you receive."
      ],
      "metadata": {
        "id": "1F0b05ssQYet"
      }
    },
    {
      "cell_type": "code",
      "source": [
        "from = 7"
      ],
      "metadata": {
        "id": "llKXis3JQgu5",
        "outputId": "6a02ccdc-52bb-4971-c404-6e1bdebd0163",
        "colab": {
          "base_uri": "https://localhost:8080/",
          "height": 140
        }
      },
      "execution_count": 58,
      "outputs": [
        {
          "output_type": "error",
          "ename": "SyntaxError",
          "evalue": "invalid syntax (<ipython-input-58-a60736d363b3>, line 1)",
          "traceback": [
            "\u001b[0;36m  File \u001b[0;32m\"<ipython-input-58-a60736d363b3>\"\u001b[0;36m, line \u001b[0;32m1\u001b[0m\n\u001b[0;31m    from = 7\u001b[0m\n\u001b[0m         ^\u001b[0m\n\u001b[0;31mSyntaxError\u001b[0m\u001b[0;31m:\u001b[0m invalid syntax\n"
          ]
        }
      ]
    },
    {
      "cell_type": "markdown",
      "source": [
        "><b>Task:</b> Instead of simply giving you the other rules for creating variables, use trial and error figure out what works and what doesn't. Are variables case-sensitive? Do numbers and symbols (e.g., %, ^, -) work, and if so, where? Derive three rules about variables and write these in a Markdown cell below."
      ],
      "metadata": {
        "id": "lmhw8paJQqBv"
      }
    },
    {
      "cell_type": "markdown",
      "source": [
        "## Your answers here!\n",
        "\n",
        "1. Variables are case sensitive\n",
        "2."
      ],
      "metadata": {
        "id": "PZg2hAY8Qvne"
      }
    },
    {
      "cell_type": "markdown",
      "source": [
        "Save this Jupyter notebook to your GitHub repository by choosing \"File\", and \"Save a Copy in GitHub\" from the drop-down menu above."
      ],
      "metadata": {
        "id": "HCSw9CJrRDr9"
      }
    }
  ]
}