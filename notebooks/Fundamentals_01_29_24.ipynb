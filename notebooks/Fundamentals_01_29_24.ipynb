{
  "nbformat": 4,
  "nbformat_minor": 0,
  "metadata": {
    "colab": {
      "provenance": [],
      "include_colab_link": true
    },
    "kernelspec": {
      "name": "python3",
      "display_name": "Python 3"
    },
    "language_info": {
      "name": "python"
    }
  },
  "cells": [
    {
      "cell_type": "markdown",
      "metadata": {
        "id": "view-in-github",
        "colab_type": "text"
      },
      "source": [
        "<a href=\"https://colab.research.google.com/github/youminpark/NEUR265/blob/main/notebooks/Fundamentals_01_29_24.ipynb\" target=\"_parent\"><img src=\"https://colab.research.google.com/assets/colab-badge.svg\" alt=\"Open In Colab\"/></a>"
      ]
    },
    {
      "cell_type": "markdown",
      "source": [
        "# Programming Fundamentals II: Data Structures\n",
        "\n",
        "In this notebook, we'll explore different types of data structures that Python can use to store information, namely **lists, tuples, and dictionaries.**"
      ],
      "metadata": {
        "id": "FZACfZEVgB1H"
      }
    },
    {
      "cell_type": "markdown",
      "source": [
        "## At the end of this notebook, you'll be able to:\n",
        "\n",
        "* Compare & contrast the types of structures that Python uses to store data points\n",
        "* Recognize & create lists, tuples, and dictionaries in Python\n",
        "* Index, slice, cast, and mutate lists\n",
        "* Understand the implications of mutability and object-oriented programming"
      ],
      "metadata": {
        "id": "KUaqfFghgH_c"
      }
    },
    {
      "cell_type": "markdown",
      "source": [
        "## A _list_ is a mutable collection of ordered items, that can be of mixed type.\n",
        "\n",
        "**Mutable** means that individual items in the object can be changed. Lists are mutable. Tuples and strings are not -- they're **immutable**.\n",
        "\n",
        "Lists are created using square brackets `[ ]`, and individual elements are separated by commas."
      ],
      "metadata": {
        "id": "vHS5CVFlgTpa"
      }
    },
    {
      "cell_type": "code",
      "source": [
        "# Create a list of 5 fruits\n",
        "fruits = ['isabelle', 'youmin', 'apple', 'kiwi', 'banana' ]"
      ],
      "metadata": {
        "id": "Q4RZ9szNgeeM"
      },
      "execution_count": 1,
      "outputs": []
    },
    {
      "cell_type": "markdown",
      "source": [
        "### Useful list functions\n",
        "\n",
        "- Check the length of your list by using `len(my_list)`\n",
        "- Use `my_list.append()` to add elements to a list\n",
        "- Remove elements by value by using `my_list.remove('value')`\n",
        "- Sort by using `my_list.sort()`"
      ],
      "metadata": {
        "id": "BUxTR2jRgsg8"
      }
    },
    {
      "cell_type": "code",
      "source": [
        "# Try different list functions\n",
        "fruits.sort()\n",
        "fruits\n",
        "\n",
        "# How does the sort function sort your list?"
      ],
      "metadata": {
        "id": "pznW52D1hDto",
        "outputId": "a15764b9-1c95-4213-eab4-41dd657e35ef",
        "colab": {
          "base_uri": "https://localhost:8080/"
        }
      },
      "execution_count": 3,
      "outputs": [
        {
          "output_type": "execute_result",
          "data": {
            "text/plain": [
              "['apple', 'banana', 'isabelle', 'kiwi', 'youmin']"
            ]
          },
          "metadata": {},
          "execution_count": 3
        }
      ]
    },
    {
      "cell_type": "code",
      "source": [
        "# Try the following code:\n",
        "\n",
        "fruits.sort(reverse=True)\n",
        "fruits\n",
        "\n",
        "# How is your list sorted now?\n",
        "# it's reverse alphabetized"
      ],
      "metadata": {
        "id": "NdNX0kkUh0tE",
        "outputId": "b72544c6-5797-495f-e68f-f18d7eaf0282",
        "colab": {
          "base_uri": "https://localhost:8080/"
        }
      },
      "execution_count": 13,
      "outputs": [
        {
          "output_type": "execute_result",
          "data": {
            "text/plain": [
              "['youmin', 'kiwi', 'isabelle', 'banana', 'apple']"
            ]
          },
          "metadata": {},
          "execution_count": 13
        }
      ]
    },
    {
      "cell_type": "markdown",
      "source": [
        "### List indexing & slicing\n",
        "\n",
        "**Indexing** refers to selecting an item from within a collection (e.g., lists, tuples, and strings). Indexing is done by placing the **index number** in square brackets, directly after the list variable.\n",
        "\n",
        "For example, if `my_list = [1,3,5]`, we can get the second value using `my_list[1]`. (Python starts indexing at zero!)"
      ],
      "metadata": {
        "id": "_4nggv26hG2o"
      }
    },
    {
      "cell_type": "code",
      "source": [
        "# Output the first value of your 'fruits' list\n",
        "fruits[0]\n",
        "\n",
        "\n",
        "# Output the fourth value of your 'fruits' list\n",
        "fruits[3]\n"
      ],
      "metadata": {
        "id": "Dcdev3yOhSs6",
        "outputId": "c388d3e7-faad-4f2b-eaf1-2267b5f39a14",
        "colab": {
          "base_uri": "https://localhost:8080/",
          "height": 35
        }
      },
      "execution_count": 8,
      "outputs": [
        {
          "output_type": "execute_result",
          "data": {
            "text/plain": [
              "'banana'"
            ],
            "application/vnd.google.colaboratory.intrinsic+json": {
              "type": "string"
            }
          },
          "metadata": {},
          "execution_count": 8
        }
      ]
    },
    {
      "cell_type": "markdown",
      "source": [
        "You can also index in the reverse direction - the final value in a list is `-1`, with the order of numbers decreasing in the reverse direction (for example, the second-to-last value in a list is `-2`, the value before that is `-3`, etc.)"
      ],
      "metadata": {
        "id": "GdZbY4K7i-6c"
      }
    },
    {
      "cell_type": "code",
      "source": [
        "fruits[-1]\n",
        "# zero index counting doesn't happen in the reverse\n",
        "# python pick a goddamn lane\n"
      ],
      "metadata": {
        "id": "NvfwfWRtkJaW"
      },
      "execution_count": null,
      "outputs": []
    },
    {
      "cell_type": "markdown",
      "source": [
        "### If we want multiple items, we can **slice** the list.\n",
        "\n",
        "There are a few ways to slice:\n",
        "\n",
        "1. We can **slice** a part of a list using the syntax `[start:stop]`, which extracts characters between index start (0) and stop (-1).\n",
        "\n",
        "**Notes**\n",
        "\n",
        "- `start` is __included__ then every element __until__ `stop` is included.\n",
        "- Negative values count backwards through the list."
      ],
      "metadata": {
        "id": "uQTKSmfci2IF"
      }
    },
    {
      "cell_type": "markdown",
      "source": [
        "2. If we omit either (or both) of start or stop from `[start:stop]`, the default is the beginning and the end of the string, respectively, e.g. `[:3]`\n",
        "\n",
        "3. We can also define the step size (instead of default 1) using the syntax `[start:stop:step]`"
      ],
      "metadata": {
        "id": "PQ5P5sp5j7Er"
      }
    },
    {
      "cell_type": "markdown",
      "source": [
        "<b>Task:</b> For our list of fruits, create three different slices, and save them as different variables:\n",
        "\n",
        "1. A slice of the first two fruits.\n",
        "2. A slice of the middle three fruits.\n",
        "3. A slice of the last fruit."
      ],
      "metadata": {
        "id": "mrTase5okPlB"
      }
    },
    {
      "cell_type": "code",
      "source": [
        "# Your code here!\n",
        "#pie = fruits[:1]\n",
        "#cake = fruits[1:4]\n",
        "pizza = fruits[-1]\n",
        "\n",
        "pizza\n",
        "\n",
        "# I like having fun with my variable names"
      ],
      "metadata": {
        "id": "jahAUklYkarf",
        "outputId": "92104c95-74ae-41e0-8516-5f7f45dffe9b",
        "colab": {
          "base_uri": "https://localhost:8080/",
          "height": 35
        }
      },
      "execution_count": 20,
      "outputs": [
        {
          "output_type": "execute_result",
          "data": {
            "text/plain": [
              "'apple'"
            ],
            "application/vnd.google.colaboratory.intrinsic+json": {
              "type": "string"
            }
          },
          "metadata": {},
          "execution_count": 20
        }
      ]
    },
    {
      "cell_type": "markdown",
      "source": [
        "### Checking length\n",
        "\n",
        "We can use the function `len( )` to check the length of lists.\n",
        "\n",
        "**Note**: We can also use this to get the number of characters in a string!"
      ],
      "metadata": {
        "id": "cZ8A-U-okebM"
      }
    },
    {
      "cell_type": "code",
      "source": [
        "# Check the length of your 'fruits' list!\n",
        "len(fruits)"
      ],
      "metadata": {
        "id": "rWbmMFvukmsZ",
        "outputId": "3fd520c9-9f9e-4d2b-8028-fc8e88dbc7ef",
        "colab": {
          "base_uri": "https://localhost:8080/"
        }
      },
      "execution_count": 19,
      "outputs": [
        {
          "output_type": "execute_result",
          "data": {
            "text/plain": [
              "5"
            ]
          },
          "metadata": {},
          "execution_count": 19
        }
      ]
    },
    {
      "cell_type": "markdown",
      "source": [
        "### Checking membership\n",
        "\n",
        "We can use `in` to see if an item exists in a list. The `in` operator checks whether an element is present in a collection, and can be negated with `not` (e.g., `value not in list`)."
      ],
      "metadata": {
        "id": "PJIU8K26ktF-"
      }
    },
    {
      "cell_type": "code",
      "source": [
        "# Is orange a fruit in your list?\n",
        "\n",
        "'orange' in fruits\n"
      ],
      "metadata": {
        "id": "P-rlqkzglI_7",
        "outputId": "c2ccf6fd-bfed-42c6-e52c-f430d8f8af84",
        "colab": {
          "base_uri": "https://localhost:8080/"
        }
      },
      "execution_count": 25,
      "outputs": [
        {
          "output_type": "execute_result",
          "data": {
            "text/plain": [
              "True"
            ]
          },
          "metadata": {},
          "execution_count": 25
        }
      ]
    },
    {
      "cell_type": "code",
      "source": [
        "# Make some code to see if 'apple' is *not* included in your list\n",
        "\n",
        "'apple' not in fruits\n"
      ],
      "metadata": {
        "id": "ya-CIy50m1l_",
        "outputId": "f1022976-3644-4b1f-8bb1-4fe7a7b15cf1",
        "colab": {
          "base_uri": "https://localhost:8080/",
          "height": 35
        }
      },
      "execution_count": 34,
      "outputs": [
        {
          "output_type": "execute_result",
          "data": {
            "text/plain": [
              "\"\\n'apple' not in fruits\\n\""
            ],
            "application/vnd.google.colaboratory.intrinsic+json": {
              "type": "string"
            }
          },
          "metadata": {},
          "execution_count": 34
        }
      ]
    },
    {
      "cell_type": "markdown",
      "source": [
        "### Mutating lists\n",
        "\n",
        "After definition, we can update members of our list _because lists are mutable!_\n",
        "\n",
        "An example of this is below:"
      ],
      "metadata": {
        "id": "P5IQE1Pkn0kQ"
      }
    },
    {
      "cell_type": "code",
      "source": [
        "# Let's replace the first item in our fruits list with 'coconut'\n",
        "fruits[0] = 'coconut'\n",
        "fruits"
      ],
      "metadata": {
        "id": "BPl_zKTboV4_",
        "outputId": "8c8e56c6-aba4-4ade-e3b5-7cc4093d8a87",
        "colab": {
          "base_uri": "https://localhost:8080/"
        }
      },
      "execution_count": 29,
      "outputs": [
        {
          "output_type": "execute_result",
          "data": {
            "text/plain": [
              "['coconut', 'kiwi', 'isabelle', 'banana', 'apple']"
            ]
          },
          "metadata": {},
          "execution_count": 29
        }
      ]
    },
    {
      "cell_type": "markdown",
      "source": [
        "<b>Task:</b> Replace the last item in your `fruits` list with 'gooseberry'"
      ],
      "metadata": {
        "id": "sTthRjSxod1Q"
      }
    },
    {
      "cell_type": "code",
      "source": [
        "# Your code here\n",
        "\n",
        "'''\n",
        "fruits[4] = 'gooseberry'\n",
        "fruits[0] = 'gooseberry'\n",
        "fruits[1] = 'gooseberry'\n",
        "fruits[2] = 'gooseberry'\n",
        "'''\n",
        "\n",
        "fruits [1:4] = ['gooseberry','gooseberry','gooseberry']\n",
        "\n",
        "fruits\n",
        "\n"
      ],
      "metadata": {
        "id": "gVI_xYt5om1t",
        "outputId": "90add0d8-3afb-4979-e3df-78d4be1c5ab3",
        "colab": {
          "base_uri": "https://localhost:8080/"
        }
      },
      "execution_count": 38,
      "outputs": [
        {
          "output_type": "execute_result",
          "data": {
            "text/plain": [
              "['gooseberry', 'gooseberry', 'gooseberry', 'gooseberry', 'gooseberry']"
            ]
          },
          "metadata": {},
          "execution_count": 38
        }
      ]
    },
    {
      "cell_type": "markdown",
      "source": [
        "### Creating lists of lists\n",
        "\n",
        "Sometimes, it's useful to create lists of lists. Often, if we import big datasets as lists, this is how it will be organized."
      ],
      "metadata": {
        "id": "mhyxAl4Qk3SB"
      }
    },
    {
      "cell_type": "code",
      "source": [
        "gene_1 = ['gene1',0.48,0.55]\n",
        "gene_2 = ['gene2',0.38,0.85]\n",
        "gene_3 = ['gene3',0.21,0.81]\n",
        "all_genes = [gene_1, gene_2, gene_3]\n",
        "\n",
        "# We can use this syntax to get a specific value\n",
        "print(all_genes[1][-1])\n"
      ],
      "metadata": {
        "id": "1NlVKjLGnRWC",
        "outputId": "e5eee89f-6066-4dea-872b-270ab005fa46",
        "colab": {
          "base_uri": "https://localhost:8080/"
        }
      },
      "execution_count": 41,
      "outputs": [
        {
          "output_type": "stream",
          "name": "stdout",
          "text": [
            "0.85\n"
          ]
        }
      ]
    },
    {
      "cell_type": "markdown",
      "source": [
        "## A _tuple_ is an **immutable** collection of ordered items, that can be of mixed type.\n",
        "\n",
        "* Tuples are created using parentheses.\n",
        "* Indexing works similar to lists."
      ],
      "metadata": {
        "id": "XWuaK7JYpBFW"
      }
    },
    {
      "cell_type": "code",
      "source": [
        "# Define a tuple\n",
        "tup = (2, 'b', False)\n",
        "type(tup[2])"
      ],
      "metadata": {
        "id": "EhEIptUBpFJz",
        "outputId": "6fdf3b72-68fc-4f46-c983-a94229d67fb4",
        "colab": {
          "base_uri": "https://localhost:8080/"
        }
      },
      "execution_count": 45,
      "outputs": [
        {
          "output_type": "execute_result",
          "data": {
            "text/plain": [
              "bool"
            ]
          },
          "metadata": {},
          "execution_count": 45
        }
      ]
    }
  ]
}