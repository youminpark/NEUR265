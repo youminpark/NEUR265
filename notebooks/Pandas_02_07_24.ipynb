{
  "nbformat": 4,
  "nbformat_minor": 0,
  "metadata": {
    "colab": {
      "provenance": [],
      "include_colab_link": true
    },
    "kernelspec": {
      "name": "python3",
      "display_name": "Python 3"
    },
    "language_info": {
      "name": "python"
    }
  },
  "cells": [
    {
      "cell_type": "markdown",
      "metadata": {
        "id": "view-in-github",
        "colab_type": "text"
      },
      "source": [
        "<a href=\"https://colab.research.google.com/github/youminpark/NEUR265/blob/main/notebooks/Pandas_02_07_24.ipynb\" target=\"_parent\"><img src=\"https://colab.research.google.com/assets/colab-badge.svg\" alt=\"Open In Colab\"/></a>"
      ]
    },
    {
      "cell_type": "markdown",
      "source": [
        "# Pandas\n",
        "\n",
        "In this notebook, we'll encounter another package for scientific computing in Python: Pandas.\n",
        "\n",
        "**At the end of this notebook, you'll be able to:**\n",
        "\n",
        "* Create & manipulate Pandas dataframes"
      ],
      "metadata": {
        "id": "OWFmCohfhrBG"
      }
    },
    {
      "cell_type": "markdown",
      "source": [
        "## Importing packages\n",
        "\n",
        "Before we can use pandas, we need to import it. We can also nickname modules when we import them.\n",
        "\n",
        "The convention is to import `pandas` as `pd`."
      ],
      "metadata": {
        "id": "wLYMwpO4iLAg"
      }
    },
    {
      "cell_type": "code",
      "source": [
        "# Import pandas here!\n",
        "import pandas as pd\n",
        "\n",
        "# Use whos 'magic command' to see available modules\n",
        "%whos"
      ],
      "metadata": {
        "id": "AAh2nlvPidKe",
        "outputId": "73701894-de00-4f42-cd03-ff9f4f53500c",
        "colab": {
          "base_uri": "https://localhost:8080/"
        }
      },
      "execution_count": 1,
      "outputs": [
        {
          "output_type": "stream",
          "name": "stdout",
          "text": [
            "Variable   Type      Data/Info\n",
            "------------------------------\n",
            "pd         module    <module 'pandas' from '/u<...>ages/pandas/__init__.py'>\n"
          ]
        }
      ]
    },
    {
      "cell_type": "markdown",
      "source": [
        "Pandas is a useful module that creates **dataframes** (think of these like Excel spreadsheets, but much faster!).\n",
        "\n",
        "We can think of Pandas as \\\"numpy with labels\\\"."
      ],
      "metadata": {
        "id": "FZZuspGhivGJ"
      }
    },
    {
      "cell_type": "markdown",
      "source": [
        "### Benefits of Pandas\n",
        "\n",
        "* Great for real-world, heterogeneous data\n",
        "* Similar to Excel spreadsheets (but way faster!)\n",
        "* Smartly deals with missing data\n",
        "\n",
        "We can work with our Allen Brain Institute patch-seq data as a Pandas dataframe!"
      ],
      "metadata": {
        "id": "1G28sQJ6i8jU"
      }
    },
    {
      "cell_type": "markdown",
      "source": [
        "><b>Task:</b> Import the `patch_seq.csv` file from our GitHub repo in the Code cell below! Assign it to a Pandas dataframe called `cell_types`.\n",
        "\n",
        "\n",
        "\n"
      ],
      "metadata": {
        "id": "Jp8EwDf4jYue"
      }
    },
    {
      "cell_type": "code",
      "source": [
        "# Import the patch-seq dataset!\n",
        "url = 'https://raw.githubusercontent.com/hallockh/neur_265/main/data/patch_seq.csv'\n",
        "cell_types = pd.read_csv(url)"
      ],
      "metadata": {
        "id": "NkSIiqLJjTEt"
      },
      "execution_count": 3,
      "outputs": []
    },
    {
      "cell_type": "markdown",
      "source": [
        "## Selecting columns and rows\n",
        "\n",
        "Indexing in Pandas  works slightly different. Similar to a dictionary, we can index values by their names.\n",
        "\n",
        "* Use `df['index']` for columns"
      ],
      "metadata": {
        "id": "SiSZoWTrkFc8"
      }
    },
    {
      "cell_type": "code",
      "source": [
        "# Grab the column with the 'ISI' header\n",
        "\n",
        "'''\n",
        "df is shorthand for \"dataframe\"\n",
        "'''\n",
        "\n",
        "cell_types['ISI']\n"
      ],
      "metadata": {
        "id": "-6Qp6bublp1g",
        "outputId": "4281ad08-6db8-4d80-f3d0-7d12ba2bd7d7",
        "colab": {
          "base_uri": "https://localhost:8080/"
        }
      },
      "execution_count": 4,
      "outputs": [
        {
          "output_type": "execute_result",
          "data": {
            "text/plain": [
              "0      77.337143\n",
              "1      44.145000\n",
              "2       7.840000\n",
              "3      73.090000\n",
              "4      63.513333\n",
              "         ...    \n",
              "135    10.762273\n",
              "136    18.110588\n",
              "137    10.169565\n",
              "138    12.216667\n",
              "139    22.526667\n",
              "Name: ISI, Length: 140, dtype: float64"
            ]
          },
          "metadata": {},
          "execution_count": 4
        }
      ]
    },
    {
      "cell_type": "markdown",
      "source": [
        "To get the first 5 rows of a dataframe, we can use a slice: `df[:5]`.\n",
        "\n",
        "This is a great way to get a sense for what kind of information is in the dataframe\n",
        "\n",
        "><b>Task:</b> Look at the first five rows of your `cell_types` dataframe below:"
      ],
      "metadata": {
        "id": "3VVeDdzzBdZQ"
      }
    },
    {
      "cell_type": "code",
      "source": [
        "# Your code here\n",
        "cell_types[:5]"
      ],
      "metadata": {
        "id": "om-6v82yCMMk",
        "outputId": "98b39811-33c6-422d-d5b3-9d6cb0e3a4f9",
        "colab": {
          "base_uri": "https://localhost:8080/",
          "height": 242
        }
      },
      "execution_count": 5,
      "outputs": [
        {
          "output_type": "execute_result",
          "data": {
            "text/plain": [
              "  Marker        ISI\n",
              "0    Sst  77.337143\n",
              "1    Sst  44.145000\n",
              "2    Sst   7.840000\n",
              "3    Sst  73.090000\n",
              "4    Sst  63.513333"
            ],
            "text/html": [
              "\n",
              "  <div id=\"df-38d8db15-1222-49b0-b5a1-25c09030617a\" class=\"colab-df-container\">\n",
              "    <div>\n",
              "<style scoped>\n",
              "    .dataframe tbody tr th:only-of-type {\n",
              "        vertical-align: middle;\n",
              "    }\n",
              "\n",
              "    .dataframe tbody tr th {\n",
              "        vertical-align: top;\n",
              "    }\n",
              "\n",
              "    .dataframe thead th {\n",
              "        text-align: right;\n",
              "    }\n",
              "</style>\n",
              "<table border=\"1\" class=\"dataframe\">\n",
              "  <thead>\n",
              "    <tr style=\"text-align: right;\">\n",
              "      <th></th>\n",
              "      <th>Marker</th>\n",
              "      <th>ISI</th>\n",
              "    </tr>\n",
              "  </thead>\n",
              "  <tbody>\n",
              "    <tr>\n",
              "      <th>0</th>\n",
              "      <td>Sst</td>\n",
              "      <td>77.337143</td>\n",
              "    </tr>\n",
              "    <tr>\n",
              "      <th>1</th>\n",
              "      <td>Sst</td>\n",
              "      <td>44.145000</td>\n",
              "    </tr>\n",
              "    <tr>\n",
              "      <th>2</th>\n",
              "      <td>Sst</td>\n",
              "      <td>7.840000</td>\n",
              "    </tr>\n",
              "    <tr>\n",
              "      <th>3</th>\n",
              "      <td>Sst</td>\n",
              "      <td>73.090000</td>\n",
              "    </tr>\n",
              "    <tr>\n",
              "      <th>4</th>\n",
              "      <td>Sst</td>\n",
              "      <td>63.513333</td>\n",
              "    </tr>\n",
              "  </tbody>\n",
              "</table>\n",
              "</div>\n",
              "    <div class=\"colab-df-buttons\">\n",
              "\n",
              "  <div class=\"colab-df-container\">\n",
              "    <button class=\"colab-df-convert\" onclick=\"convertToInteractive('df-38d8db15-1222-49b0-b5a1-25c09030617a')\"\n",
              "            title=\"Convert this dataframe to an interactive table.\"\n",
              "            style=\"display:none;\">\n",
              "\n",
              "  <svg xmlns=\"http://www.w3.org/2000/svg\" height=\"24px\" viewBox=\"0 -960 960 960\">\n",
              "    <path d=\"M120-120v-720h720v720H120Zm60-500h600v-160H180v160Zm220 220h160v-160H400v160Zm0 220h160v-160H400v160ZM180-400h160v-160H180v160Zm440 0h160v-160H620v160ZM180-180h160v-160H180v160Zm440 0h160v-160H620v160Z\"/>\n",
              "  </svg>\n",
              "    </button>\n",
              "\n",
              "  <style>\n",
              "    .colab-df-container {\n",
              "      display:flex;\n",
              "      gap: 12px;\n",
              "    }\n",
              "\n",
              "    .colab-df-convert {\n",
              "      background-color: #E8F0FE;\n",
              "      border: none;\n",
              "      border-radius: 50%;\n",
              "      cursor: pointer;\n",
              "      display: none;\n",
              "      fill: #1967D2;\n",
              "      height: 32px;\n",
              "      padding: 0 0 0 0;\n",
              "      width: 32px;\n",
              "    }\n",
              "\n",
              "    .colab-df-convert:hover {\n",
              "      background-color: #E2EBFA;\n",
              "      box-shadow: 0px 1px 2px rgba(60, 64, 67, 0.3), 0px 1px 3px 1px rgba(60, 64, 67, 0.15);\n",
              "      fill: #174EA6;\n",
              "    }\n",
              "\n",
              "    .colab-df-buttons div {\n",
              "      margin-bottom: 4px;\n",
              "    }\n",
              "\n",
              "    [theme=dark] .colab-df-convert {\n",
              "      background-color: #3B4455;\n",
              "      fill: #D2E3FC;\n",
              "    }\n",
              "\n",
              "    [theme=dark] .colab-df-convert:hover {\n",
              "      background-color: #434B5C;\n",
              "      box-shadow: 0px 1px 3px 1px rgba(0, 0, 0, 0.15);\n",
              "      filter: drop-shadow(0px 1px 2px rgba(0, 0, 0, 0.3));\n",
              "      fill: #FFFFFF;\n",
              "    }\n",
              "  </style>\n",
              "\n",
              "    <script>\n",
              "      const buttonEl =\n",
              "        document.querySelector('#df-38d8db15-1222-49b0-b5a1-25c09030617a button.colab-df-convert');\n",
              "      buttonEl.style.display =\n",
              "        google.colab.kernel.accessAllowed ? 'block' : 'none';\n",
              "\n",
              "      async function convertToInteractive(key) {\n",
              "        const element = document.querySelector('#df-38d8db15-1222-49b0-b5a1-25c09030617a');\n",
              "        const dataTable =\n",
              "          await google.colab.kernel.invokeFunction('convertToInteractive',\n",
              "                                                    [key], {});\n",
              "        if (!dataTable) return;\n",
              "\n",
              "        const docLinkHtml = 'Like what you see? Visit the ' +\n",
              "          '<a target=\"_blank\" href=https://colab.research.google.com/notebooks/data_table.ipynb>data table notebook</a>'\n",
              "          + ' to learn more about interactive tables.';\n",
              "        element.innerHTML = '';\n",
              "        dataTable['output_type'] = 'display_data';\n",
              "        await google.colab.output.renderOutput(dataTable, element);\n",
              "        const docLink = document.createElement('div');\n",
              "        docLink.innerHTML = docLinkHtml;\n",
              "        element.appendChild(docLink);\n",
              "      }\n",
              "    </script>\n",
              "  </div>\n",
              "\n",
              "\n",
              "<div id=\"df-0a64d993-a7b8-43aa-81b3-91ecb67eec0d\">\n",
              "  <button class=\"colab-df-quickchart\" onclick=\"quickchart('df-0a64d993-a7b8-43aa-81b3-91ecb67eec0d')\"\n",
              "            title=\"Suggest charts\"\n",
              "            style=\"display:none;\">\n",
              "\n",
              "<svg xmlns=\"http://www.w3.org/2000/svg\" height=\"24px\"viewBox=\"0 0 24 24\"\n",
              "     width=\"24px\">\n",
              "    <g>\n",
              "        <path d=\"M19 3H5c-1.1 0-2 .9-2 2v14c0 1.1.9 2 2 2h14c1.1 0 2-.9 2-2V5c0-1.1-.9-2-2-2zM9 17H7v-7h2v7zm4 0h-2V7h2v10zm4 0h-2v-4h2v4z\"/>\n",
              "    </g>\n",
              "</svg>\n",
              "  </button>\n",
              "\n",
              "<style>\n",
              "  .colab-df-quickchart {\n",
              "      --bg-color: #E8F0FE;\n",
              "      --fill-color: #1967D2;\n",
              "      --hover-bg-color: #E2EBFA;\n",
              "      --hover-fill-color: #174EA6;\n",
              "      --disabled-fill-color: #AAA;\n",
              "      --disabled-bg-color: #DDD;\n",
              "  }\n",
              "\n",
              "  [theme=dark] .colab-df-quickchart {\n",
              "      --bg-color: #3B4455;\n",
              "      --fill-color: #D2E3FC;\n",
              "      --hover-bg-color: #434B5C;\n",
              "      --hover-fill-color: #FFFFFF;\n",
              "      --disabled-bg-color: #3B4455;\n",
              "      --disabled-fill-color: #666;\n",
              "  }\n",
              "\n",
              "  .colab-df-quickchart {\n",
              "    background-color: var(--bg-color);\n",
              "    border: none;\n",
              "    border-radius: 50%;\n",
              "    cursor: pointer;\n",
              "    display: none;\n",
              "    fill: var(--fill-color);\n",
              "    height: 32px;\n",
              "    padding: 0;\n",
              "    width: 32px;\n",
              "  }\n",
              "\n",
              "  .colab-df-quickchart:hover {\n",
              "    background-color: var(--hover-bg-color);\n",
              "    box-shadow: 0 1px 2px rgba(60, 64, 67, 0.3), 0 1px 3px 1px rgba(60, 64, 67, 0.15);\n",
              "    fill: var(--button-hover-fill-color);\n",
              "  }\n",
              "\n",
              "  .colab-df-quickchart-complete:disabled,\n",
              "  .colab-df-quickchart-complete:disabled:hover {\n",
              "    background-color: var(--disabled-bg-color);\n",
              "    fill: var(--disabled-fill-color);\n",
              "    box-shadow: none;\n",
              "  }\n",
              "\n",
              "  .colab-df-spinner {\n",
              "    border: 2px solid var(--fill-color);\n",
              "    border-color: transparent;\n",
              "    border-bottom-color: var(--fill-color);\n",
              "    animation:\n",
              "      spin 1s steps(1) infinite;\n",
              "  }\n",
              "\n",
              "  @keyframes spin {\n",
              "    0% {\n",
              "      border-color: transparent;\n",
              "      border-bottom-color: var(--fill-color);\n",
              "      border-left-color: var(--fill-color);\n",
              "    }\n",
              "    20% {\n",
              "      border-color: transparent;\n",
              "      border-left-color: var(--fill-color);\n",
              "      border-top-color: var(--fill-color);\n",
              "    }\n",
              "    30% {\n",
              "      border-color: transparent;\n",
              "      border-left-color: var(--fill-color);\n",
              "      border-top-color: var(--fill-color);\n",
              "      border-right-color: var(--fill-color);\n",
              "    }\n",
              "    40% {\n",
              "      border-color: transparent;\n",
              "      border-right-color: var(--fill-color);\n",
              "      border-top-color: var(--fill-color);\n",
              "    }\n",
              "    60% {\n",
              "      border-color: transparent;\n",
              "      border-right-color: var(--fill-color);\n",
              "    }\n",
              "    80% {\n",
              "      border-color: transparent;\n",
              "      border-right-color: var(--fill-color);\n",
              "      border-bottom-color: var(--fill-color);\n",
              "    }\n",
              "    90% {\n",
              "      border-color: transparent;\n",
              "      border-bottom-color: var(--fill-color);\n",
              "    }\n",
              "  }\n",
              "</style>\n",
              "\n",
              "  <script>\n",
              "    async function quickchart(key) {\n",
              "      const quickchartButtonEl =\n",
              "        document.querySelector('#' + key + ' button');\n",
              "      quickchartButtonEl.disabled = true;  // To prevent multiple clicks.\n",
              "      quickchartButtonEl.classList.add('colab-df-spinner');\n",
              "      try {\n",
              "        const charts = await google.colab.kernel.invokeFunction(\n",
              "            'suggestCharts', [key], {});\n",
              "      } catch (error) {\n",
              "        console.error('Error during call to suggestCharts:', error);\n",
              "      }\n",
              "      quickchartButtonEl.classList.remove('colab-df-spinner');\n",
              "      quickchartButtonEl.classList.add('colab-df-quickchart-complete');\n",
              "    }\n",
              "    (() => {\n",
              "      let quickchartButtonEl =\n",
              "        document.querySelector('#df-0a64d993-a7b8-43aa-81b3-91ecb67eec0d button');\n",
              "      quickchartButtonEl.style.display =\n",
              "        google.colab.kernel.accessAllowed ? 'block' : 'none';\n",
              "    })();\n",
              "  </script>\n",
              "</div>\n",
              "    </div>\n",
              "  </div>\n"
            ]
          },
          "metadata": {},
          "execution_count": 5
        }
      ]
    },
    {
      "cell_type": "markdown",
      "source": [
        "We can combine our code to get the first five rows of a specific column like so:"
      ],
      "metadata": {
        "id": "qpt2wY8sCNY4"
      }
    },
    {
      "cell_type": "code",
      "source": [
        "cell_types['ISI'][:5]"
      ],
      "metadata": {
        "id": "oaz_k3HyCXwb",
        "outputId": "e75bd397-24fa-43e0-d289-94938b15ebbf",
        "colab": {
          "base_uri": "https://localhost:8080/"
        }
      },
      "execution_count": 6,
      "outputs": [
        {
          "output_type": "execute_result",
          "data": {
            "text/plain": [
              "0    77.337143\n",
              "1    44.145000\n",
              "2     7.840000\n",
              "3    73.090000\n",
              "4    63.513333\n",
              "Name: ISI, dtype: float64"
            ]
          },
          "metadata": {},
          "execution_count": 6
        }
      ]
    },
    {
      "cell_type": "markdown",
      "source": [
        "><b>Task:</b> Try flipping the order of your column and row indices. Does Pandas still execute the command?"
      ],
      "metadata": {
        "id": "WyH5PJDOCjGd"
      }
    },
    {
      "cell_type": "code",
      "source": [
        "cell_types[:5]['ISI']\n",
        "\n",
        "#camp!! order does naur-t matter"
      ],
      "metadata": {
        "id": "qtR0nwLn16c7",
        "outputId": "54e33966-945b-4e0d-b710-1e38b0a641ef",
        "colab": {
          "base_uri": "https://localhost:8080/"
        }
      },
      "execution_count": 7,
      "outputs": [
        {
          "output_type": "execute_result",
          "data": {
            "text/plain": [
              "0    77.337143\n",
              "1    44.145000\n",
              "2     7.840000\n",
              "3    73.090000\n",
              "4    63.513333\n",
              "Name: ISI, dtype: float64"
            ]
          },
          "metadata": {},
          "execution_count": 7
        }
      ]
    },
    {
      "cell_type": "markdown",
      "source": [
        "What's the most common ISI value? This is a really easy question to answer! There's a `.value_counts()` method that we can use (we'll have to round our values before we do this):"
      ],
      "metadata": {
        "id": "QHeEZxg7C82H"
      }
    },
    {
      "cell_type": "code",
      "source": [
        "# Get ISI counts\n",
        "\n",
        "cell_types['ISI'] = round(cell_types['ISI'])\n",
        "ISI_counts = cell_types['ISI'].value_counts()\n",
        "ISI_counts"
      ],
      "metadata": {
        "id": "z10b9VKmDWly",
        "outputId": "74a77214-63e2-4e3c-bb19-2e2199f5a9db",
        "colab": {
          "base_uri": "https://localhost:8080/"
        }
      },
      "execution_count": 8,
      "outputs": [
        {
          "output_type": "execute_result",
          "data": {
            "text/plain": [
              "13.0    8\n",
              "8.0     5\n",
              "25.0    5\n",
              "44.0    5\n",
              "19.0    4\n",
              "       ..\n",
              "79.0    1\n",
              "60.0    1\n",
              "42.0    1\n",
              "41.0    1\n",
              "39.0    1\n",
              "Name: ISI, Length: 66, dtype: int64"
            ]
          },
          "metadata": {},
          "execution_count": 8
        }
      ]
    },
    {
      "cell_type": "markdown",
      "source": [
        "We can visualize this with a bar graph by using the `.plot` method:"
      ],
      "metadata": {
        "id": "ZybT4QDdEL0S"
      }
    },
    {
      "cell_type": "code",
      "source": [
        "# Bar graph of ISI counts\n",
        "\n",
        "ISI_counts[:10].plot(kind = 'bar') #plotting modes with <10 occurrences (all modes are below 10 tho so it's immaterial in this case)\n",
        "\n"
      ],
      "metadata": {
        "id": "HTAVzJujEW_6",
        "outputId": "6f49d0c3-b785-445c-f839-b83c48aa4ffa",
        "colab": {
          "base_uri": "https://localhost:8080/",
          "height": 464
        }
      },
      "execution_count": 24,
      "outputs": [
        {
          "output_type": "execute_result",
          "data": {
            "text/plain": [
              "<Axes: >"
            ]
          },
          "metadata": {},
          "execution_count": 24
        },
        {
          "output_type": "display_data",
          "data": {
            "text/plain": [
              "<Figure size 640x480 with 1 Axes>"
            ],
            "image/png": "[encoded data removed]"
          },
          "metadata": {}
        }
      ]
    },
    {
      "cell_type": "markdown",
      "source": [
        "><b>Task:</b> Go to the Pandas website (https://pandas.pydata.org/docs/reference/api/pandas.DataFrame.plot.html) and look at other options for the `kind` parameter in the `.plot` method. Try plotting your ISI counts using different types of graphs."
      ],
      "metadata": {
        "id": "0l6dVr8ZE-AQ"
      }
    },
    {
      "cell_type": "code",
      "source": [
        "# Plot your ISI value counts here!\n",
        "ISI_counts[:10].plot(kind = 'pie')"
      ],
      "metadata": {
        "id": "6eK_8yxQFnYh",
        "outputId": "479d54cf-7aa6-41ba-c884-3980d2b9a302",
        "colab": {
          "base_uri": "https://localhost:8080/",
          "height": 423
        }
      },
      "execution_count": 21,
      "outputs": [
        {
          "output_type": "execute_result",
          "data": {
            "text/plain": [
              "<Axes: ylabel='ISI'>"
            ]
          },
          "metadata": {},
          "execution_count": 21
        },
        {
          "output_type": "display_data",
          "data": {
            "text/plain": [
              "<Figure size 640x480 with 1 Axes>"
            ],
            "image/png": "[encoded data removed]"
          },
          "metadata": {}
        }
      ]
    },
    {
      "cell_type": "markdown",
      "source": [
        "><b>Task:</b> Make a pie chart of the values in your `'Marker'` column. Do you have an equal sampling of parvalbumin and somatostatin-expressing interneurons?"
      ],
      "metadata": {
        "id": "lXZlIRDoKdTc"
      }
    },
    {
      "cell_type": "code",
      "source": [
        "Marker_counts = cell_types['Marker'].value_counts()\n",
        "Marker_counts[:10].plot(kind = 'pie')"
      ],
      "metadata": {
        "id": "qBzbRIat4nAU",
        "outputId": "61b0fd72-6c64-4f1a-fa4f-bc89493dff67",
        "colab": {
          "base_uri": "https://localhost:8080/",
          "height": 423
        }
      },
      "execution_count": 22,
      "outputs": [
        {
          "output_type": "execute_result",
          "data": {
            "text/plain": [
              "<Axes: ylabel='Marker'>"
            ]
          },
          "metadata": {},
          "execution_count": 22
        },
        {
          "output_type": "display_data",
          "data": {
            "text/plain": [
              "<Figure size 640x480 with 1 Axes>"
            ],
            "image/png": "[encoded data removed]"
          },
          "metadata": {}
        }
      ]
    },
    {
      "cell_type": "markdown",
      "source": [
        "What if we only want to get ISI value counts from parvalbumin-expressing neurons? To do this, we'd need some way of indexing rows that contain the `'Pvalb'` string. The Pandas syntax for this is:"
      ],
      "metadata": {
        "id": "TRWiXRJMGDnC"
      }
    },
    {
      "cell_type": "code",
      "source": [
        "# Get ISI values from only parvalbumin interneurons\n",
        "\n",
        "pvalb_isi = cell_types[cell_types['Marker'] == \"Pvalb\"]\n",
        "pvalb_isi[:3]"
      ],
      "metadata": {
        "id": "6oLTyceKGnoh",
        "outputId": "dbf27a76-a3bf-48ec-adf7-fee8a39e5d91",
        "colab": {
          "base_uri": "https://localhost:8080/",
          "height": 142
        }
      },
      "execution_count": 25,
      "outputs": [
        {
          "output_type": "execute_result",
          "data": {
            "text/plain": [
              "   Marker   ISI\n",
              "64  Pvalb  22.0\n",
              "65  Pvalb   9.0\n",
              "66  Pvalb  19.0"
            ],
            "text/html": [
              "\n",
              "  <div id=\"df-463072da-fd1e-49ff-9895-4ffe84356077\" class=\"colab-df-container\">\n",
              "    <div>\n",
              "<style scoped>\n",
              "    .dataframe tbody tr th:only-of-type {\n",
              "        vertical-align: middle;\n",
              "    }\n",
              "\n",
              "    .dataframe tbody tr th {\n",
              "        vertical-align: top;\n",
              "    }\n",
              "\n",
              "    .dataframe thead th {\n",
              "        text-align: right;\n",
              "    }\n",
              "</style>\n",
              "<table border=\"1\" class=\"dataframe\">\n",
              "  <thead>\n",
              "    <tr style=\"text-align: right;\">\n",
              "      <th></th>\n",
              "      <th>Marker</th>\n",
              "      <th>ISI</th>\n",
              "    </tr>\n",
              "  </thead>\n",
              "  <tbody>\n",
              "    <tr>\n",
              "      <th>64</th>\n",
              "      <td>Pvalb</td>\n",
              "      <td>22.0</td>\n",
              "    </tr>\n",
              "    <tr>\n",
              "      <th>65</th>\n",
              "      <td>Pvalb</td>\n",
              "      <td>9.0</td>\n",
              "    </tr>\n",
              "    <tr>\n",
              "      <th>66</th>\n",
              "      <td>Pvalb</td>\n",
              "      <td>19.0</td>\n",
              "    </tr>\n",
              "  </tbody>\n",
              "</table>\n",
              "</div>\n",
              "    <div class=\"colab-df-buttons\">\n",
              "\n",
              "  <div class=\"colab-df-container\">\n",
              "    <button class=\"colab-df-convert\" onclick=\"convertToInteractive('df-463072da-fd1e-49ff-9895-4ffe84356077')\"\n",
              "            title=\"Convert this dataframe to an interactive table.\"\n",
              "            style=\"display:none;\">\n",
              "\n",
              "  <svg xmlns=\"http://www.w3.org/2000/svg\" height=\"24px\" viewBox=\"0 -960 960 960\">\n",
              "    <path d=\"M120-120v-720h720v720H120Zm60-500h600v-160H180v160Zm220 220h160v-160H400v160Zm0 220h160v-160H400v160ZM180-400h160v-160H180v160Zm440 0h160v-160H620v160ZM180-180h160v-160H180v160Zm440 0h160v-160H620v160Z\"/>\n",
              "  </svg>\n",
              "    </button>\n",
              "\n",
              "  <style>\n",
              "    .colab-df-container {\n",
              "      display:flex;\n",
              "      gap: 12px;\n",
              "    }\n",
              "\n",
              "    .colab-df-convert {\n",
              "      background-color: #E8F0FE;\n",
              "      border: none;\n",
              "      border-radius: 50%;\n",
              "      cursor: pointer;\n",
              "      display: none;\n",
              "      fill: #1967D2;\n",
              "      height: 32px;\n",
              "      padding: 0 0 0 0;\n",
              "      width: 32px;\n",
              "    }\n",
              "\n",
              "    .colab-df-convert:hover {\n",
              "      background-color: #E2EBFA;\n",
              "      box-shadow: 0px 1px 2px rgba(60, 64, 67, 0.3), 0px 1px 3px 1px rgba(60, 64, 67, 0.15);\n",
              "      fill: #174EA6;\n",
              "    }\n",
              "\n",
              "    .colab-df-buttons div {\n",
              "      margin-bottom: 4px;\n",
              "    }\n",
              "\n",
              "    [theme=dark] .colab-df-convert {\n",
              "      background-color: #3B4455;\n",
              "      fill: #D2E3FC;\n",
              "    }\n",
              "\n",
              "    [theme=dark] .colab-df-convert:hover {\n",
              "      background-color: #434B5C;\n",
              "      box-shadow: 0px 1px 3px 1px rgba(0, 0, 0, 0.15);\n",
              "      filter: drop-shadow(0px 1px 2px rgba(0, 0, 0, 0.3));\n",
              "      fill: #FFFFFF;\n",
              "    }\n",
              "  </style>\n",
              "\n",
              "    <script>\n",
              "      const buttonEl =\n",
              "        document.querySelector('#df-463072da-fd1e-49ff-9895-4ffe84356077 button.colab-df-convert');\n",
              "      buttonEl.style.display =\n",
              "        google.colab.kernel.accessAllowed ? 'block' : 'none';\n",
              "\n",
              "      async function convertToInteractive(key) {\n",
              "        const element = document.querySelector('#df-463072da-fd1e-49ff-9895-4ffe84356077');\n",
              "        const dataTable =\n",
              "          await google.colab.kernel.invokeFunction('convertToInteractive',\n",
              "                                                    [key], {});\n",
              "        if (!dataTable) return;\n",
              "\n",
              "        const docLinkHtml = 'Like what you see? Visit the ' +\n",
              "          '<a target=\"_blank\" href=https://colab.research.google.com/notebooks/data_table.ipynb>data table notebook</a>'\n",
              "          + ' to learn more about interactive tables.';\n",
              "        element.innerHTML = '';\n",
              "        dataTable['output_type'] = 'display_data';\n",
              "        await google.colab.output.renderOutput(dataTable, element);\n",
              "        const docLink = document.createElement('div');\n",
              "        docLink.innerHTML = docLinkHtml;\n",
              "        element.appendChild(docLink);\n",
              "      }\n",
              "    </script>\n",
              "  </div>\n",
              "\n",
              "\n",
              "<div id=\"df-a865312b-2526-4243-a377-5dd0f91d5e2d\">\n",
              "  <button class=\"colab-df-quickchart\" onclick=\"quickchart('df-a865312b-2526-4243-a377-5dd0f91d5e2d')\"\n",
              "            title=\"Suggest charts\"\n",
              "            style=\"display:none;\">\n",
              "\n",
              "<svg xmlns=\"http://www.w3.org/2000/svg\" height=\"24px\"viewBox=\"0 0 24 24\"\n",
              "     width=\"24px\">\n",
              "    <g>\n",
              "        <path d=\"M19 3H5c-1.1 0-2 .9-2 2v14c0 1.1.9 2 2 2h14c1.1 0 2-.9 2-2V5c0-1.1-.9-2-2-2zM9 17H7v-7h2v7zm4 0h-2V7h2v10zm4 0h-2v-4h2v4z\"/>\n",
              "    </g>\n",
              "</svg>\n",
              "  </button>\n",
              "\n",
              "<style>\n",
              "  .colab-df-quickchart {\n",
              "      --bg-color: #E8F0FE;\n",
              "      --fill-color: #1967D2;\n",
              "      --hover-bg-color: #E2EBFA;\n",
              "      --hover-fill-color: #174EA6;\n",
              "      --disabled-fill-color: #AAA;\n",
              "      --disabled-bg-color: #DDD;\n",
              "  }\n",
              "\n",
              "  [theme=dark] .colab-df-quickchart {\n",
              "      --bg-color: #3B4455;\n",
              "      --fill-color: #D2E3FC;\n",
              "      --hover-bg-color: #434B5C;\n",
              "      --hover-fill-color: #FFFFFF;\n",
              "      --disabled-bg-color: #3B4455;\n",
              "      --disabled-fill-color: #666;\n",
              "  }\n",
              "\n",
              "  .colab-df-quickchart {\n",
              "    background-color: var(--bg-color);\n",
              "    border: none;\n",
              "    border-radius: 50%;\n",
              "    cursor: pointer;\n",
              "    display: none;\n",
              "    fill: var(--fill-color);\n",
              "    height: 32px;\n",
              "    padding: 0;\n",
              "    width: 32px;\n",
              "  }\n",
              "\n",
              "  .colab-df-quickchart:hover {\n",
              "    background-color: var(--hover-bg-color);\n",
              "    box-shadow: 0 1px 2px rgba(60, 64, 67, 0.3), 0 1px 3px 1px rgba(60, 64, 67, 0.15);\n",
              "    fill: var(--button-hover-fill-color);\n",
              "  }\n",
              "\n",
              "  .colab-df-quickchart-complete:disabled,\n",
              "  .colab-df-quickchart-complete:disabled:hover {\n",
              "    background-color: var(--disabled-bg-color);\n",
              "    fill: var(--disabled-fill-color);\n",
              "    box-shadow: none;\n",
              "  }\n",
              "\n",
              "  .colab-df-spinner {\n",
              "    border: 2px solid var(--fill-color);\n",
              "    border-color: transparent;\n",
              "    border-bottom-color: var(--fill-color);\n",
              "    animation:\n",
              "      spin 1s steps(1) infinite;\n",
              "  }\n",
              "\n",
              "  @keyframes spin {\n",
              "    0% {\n",
              "      border-color: transparent;\n",
              "      border-bottom-color: var(--fill-color);\n",
              "      border-left-color: var(--fill-color);\n",
              "    }\n",
              "    20% {\n",
              "      border-color: transparent;\n",
              "      border-left-color: var(--fill-color);\n",
              "      border-top-color: var(--fill-color);\n",
              "    }\n",
              "    30% {\n",
              "      border-color: transparent;\n",
              "      border-left-color: var(--fill-color);\n",
              "      border-top-color: var(--fill-color);\n",
              "      border-right-color: var(--fill-color);\n",
              "    }\n",
              "    40% {\n",
              "      border-color: transparent;\n",
              "      border-right-color: var(--fill-color);\n",
              "      border-top-color: var(--fill-color);\n",
              "    }\n",
              "    60% {\n",
              "      border-color: transparent;\n",
              "      border-right-color: var(--fill-color);\n",
              "    }\n",
              "    80% {\n",
              "      border-color: transparent;\n",
              "      border-right-color: var(--fill-color);\n",
              "      border-bottom-color: var(--fill-color);\n",
              "    }\n",
              "    90% {\n",
              "      border-color: transparent;\n",
              "      border-bottom-color: var(--fill-color);\n",
              "    }\n",
              "  }\n",
              "</style>\n",
              "\n",
              "  <script>\n",
              "    async function quickchart(key) {\n",
              "      const quickchartButtonEl =\n",
              "        document.querySelector('#' + key + ' button');\n",
              "      quickchartButtonEl.disabled = true;  // To prevent multiple clicks.\n",
              "      quickchartButtonEl.classList.add('colab-df-spinner');\n",
              "      try {\n",
              "        const charts = await google.colab.kernel.invokeFunction(\n",
              "            'suggestCharts', [key], {});\n",
              "      } catch (error) {\n",
              "        console.error('Error during call to suggestCharts:', error);\n",
              "      }\n",
              "      quickchartButtonEl.classList.remove('colab-df-spinner');\n",
              "      quickchartButtonEl.classList.add('colab-df-quickchart-complete');\n",
              "    }\n",
              "    (() => {\n",
              "      let quickchartButtonEl =\n",
              "        document.querySelector('#df-a865312b-2526-4243-a377-5dd0f91d5e2d button');\n",
              "      quickchartButtonEl.style.display =\n",
              "        google.colab.kernel.accessAllowed ? 'block' : 'none';\n",
              "    })();\n",
              "  </script>\n",
              "</div>\n",
              "    </div>\n",
              "  </div>\n"
            ]
          },
          "metadata": {},
          "execution_count": 25
        }
      ]
    },
    {
      "cell_type": "markdown",
      "source": [
        "If you look at `pvalb_isi`, you'll see that this worked, and it only contains ISI values from one type of neuron. But how does this work? Let's deconstruct it into two pieces"
      ],
      "metadata": {
        "id": "SswGQpyCG8vx"
      }
    },
    {
      "cell_type": "code",
      "source": [
        "cell_types['Marker'] == \"Pvalb\" #'==' is the conditional operator"
      ],
      "metadata": {
        "id": "RxdkoXsrHJO_",
        "outputId": "97930e4a-0f0c-4712-c9c1-ebc5223a58b6",
        "colab": {
          "base_uri": "https://localhost:8080/"
        }
      },
      "execution_count": 26,
      "outputs": [
        {
          "output_type": "execute_result",
          "data": {
            "text/plain": [
              "0      False\n",
              "1      False\n",
              "2      False\n",
              "3      False\n",
              "4      False\n",
              "       ...  \n",
              "135     True\n",
              "136     True\n",
              "137     True\n",
              "138     True\n",
              "139     True\n",
              "Name: Marker, Length: 140, dtype: bool"
            ]
          },
          "metadata": {},
          "execution_count": 26
        }
      ]
    },
    {
      "cell_type": "markdown",
      "source": [
        "This is a big array of `Trues` and `Falses`, one for each row in our dataframe. When we index our dataframe with this array, we get just the rows where our boolean array evaluated to `True`. It's important to note that for row filtering by a boolean array the length of our dataframe's index must be the same length as the boolean array used for filtering."
      ],
      "metadata": {
        "id": "p2qa6w2aHV6A"
      }
    },
    {
      "cell_type": "markdown",
      "source": [
        ">Question: What do you notice about the equals signs in the above code? Why do you think are there two types of equals signs?"
      ],
      "metadata": {
        "id": "xiF8HOCxHjhR"
      }
    },
    {
      "cell_type": "markdown",
      "source": [
        "## A digression about Numpy arrays\n",
        "\n",
        "On the inside of a dataframe, the type of a column is `pd.Series`, and Pandas Series are internally numpy arrays. If you add `.values` to the end of any Series, you'll get its internal numpy array"
      ],
      "metadata": {
        "id": "da5hU0-BJT4f"
      }
    },
    {
      "cell_type": "code",
      "source": [
        "# Convert the ISI column in our Pandas dataframe into a Numpy array\n",
        "\n",
        "ISI_array = cell_types['ISI'].values\n",
        "type(ISI_array)"
      ],
      "metadata": {
        "id": "BXsMmWePJ5q1",
        "outputId": "0e8e899f-2e1e-4136-abfc-9bf8c28c3e9d",
        "colab": {
          "base_uri": "https://localhost:8080/"
        }
      },
      "execution_count": 27,
      "outputs": [
        {
          "output_type": "execute_result",
          "data": {
            "text/plain": [
              "numpy.ndarray"
            ]
          },
          "metadata": {},
          "execution_count": 27
        }
      ]
    },
    {
      "cell_type": "markdown",
      "source": [
        "## Pandas methods and attributes\n",
        "\n",
        "Just like with Numpy, Pandas also has some unique attributes and methods you can use to work with your data\n",
        "\n",
        "* The `.shape` method lets you check the shape of your DataFrame\n",
        "* The `.append` method lets you add data to your DataFrame\n",
        "* The `.drop_duplicates` method will remove duplicate data\n"
      ],
      "metadata": {
        "id": "kXbRbUhmF9NX"
      }
    },
    {
      "cell_type": "code",
      "source": [
        "# Check the shape of your cell_types DataFrame\n",
        "\n",
        "cell_types.shape\n",
        "\n"
      ],
      "metadata": {
        "id": "wk-LiR6EHCuT",
        "outputId": "507dc5a3-37b1-408e-b007-6f192e6bb858",
        "colab": {
          "base_uri": "https://localhost:8080/"
        }
      },
      "execution_count": 35,
      "outputs": [
        {
          "output_type": "execute_result",
          "data": {
            "text/plain": [
              "(140, 2)"
            ]
          },
          "metadata": {},
          "execution_count": 35
        }
      ]
    },
    {
      "cell_type": "markdown",
      "source": [
        ">Question: What happens when you try to use parentheses with `.shape`? Why do you think this happens?"
      ],
      "metadata": {
        "id": "0udu9VDLHOCi"
      }
    },
    {
      "cell_type": "code",
      "source": [
        "# note on object-oriented programming: \"cell_types.shape\" is an attribute while \"cell_types.shape()\" has method syntax"
      ],
      "metadata": {
        "id": "tAhYJCDN8yCo"
      },
      "execution_count": null,
      "outputs": []
    },
    {
      "cell_type": "markdown",
      "source": [
        "><b>Task:</b> Create a new variable called `cell_temp`, and make it equal to `cell_types` with duplicates removed. What is the shape of `cell_temp`? What is its size?"
      ],
      "metadata": {
        "id": "XirNkEvRHeHu"
      }
    },
    {
      "cell_type": "code",
      "source": [
        "# cell_types.shape\n",
        "cell_temp = cell_types.drop_duplicates() #fun fact: drop_duplicates() is a method\n",
        "cell_temp.shape"
      ],
      "metadata": {
        "id": "SC0RAJTuHo-W",
        "outputId": "0c47dd26-6233-4c09-a5b8-7ebf3ad1a7ad",
        "colab": {
          "base_uri": "https://localhost:8080/"
        }
      },
      "execution_count": 36,
      "outputs": [
        {
          "output_type": "execute_result",
          "data": {
            "text/plain": [
              "(77, 2)"
            ]
          },
          "metadata": {},
          "execution_count": 36
        }
      ]
    },
    {
      "cell_type": "markdown",
      "source": [
        "><b>Task:</b> Create a bar plot of ISI values for your `cell_temp` DataFrame. How do you think the `.drop_duplicates` method works?"
      ],
      "metadata": {
        "id": "metwqPhbIuZP"
      }
    },
    {
      "cell_type": "code",
      "source": [
        "# Make a new bar plot\n",
        "temp_counts = cell_temp['ISI'].value_counts() #another fun fact: value_counts() is a method\n",
        "temp_counts[:10].plot(kind = 'bar')\n",
        "\n",
        "# Why are there still duplicates in the plot?\n",
        "# value_counts() splits the data up by category, so if an integer repeats in the sst and pvalb set, there will still be a duplicate of that"
      ],
      "metadata": {
        "id": "QvMvTnXiI6D2",
        "outputId": "5ea21cfb-a3cf-4147-ef9b-e6ff9306e6d9",
        "colab": {
          "base_uri": "https://localhost:8080/",
          "height": 472
        }
      },
      "execution_count": 40,
      "outputs": [
        {
          "output_type": "execute_result",
          "data": {
            "text/plain": [
              "<Axes: >"
            ]
          },
          "metadata": {},
          "execution_count": 40
        },
        {
          "output_type": "display_data",
          "data": {
            "text/plain": [
              "<Figure size 640x480 with 1 Axes>"
            ],
            "image/png": "[encoded data removed]"
          },
          "metadata": {}
        }
      ]
    },
    {
      "cell_type": "markdown",
      "source": [
        "We can print the name of our columns using the `.column` method, and rename our column headers with the `.rename` method:"
      ],
      "metadata": {
        "id": "Uj7LhuYmKL8t"
      }
    },
    {
      "cell_type": "code",
      "source": [
        "print(cell_types.columns)\n",
        "cell_types_renamed = cell_types.rename(columns={'ISI': 'Inter-spike interval'})\n",
        "print(cell_types_renamed.columns)\n"
      ],
      "metadata": {
        "id": "PXay2684KSoq",
        "outputId": "cc58f614-c756-45f0-81d6-bcf038a997b7",
        "colab": {
          "base_uri": "https://localhost:8080/"
        }
      },
      "execution_count": 41,
      "outputs": [
        {
          "output_type": "stream",
          "name": "stdout",
          "text": [
            "Index(['Marker', 'ISI'], dtype='object')\n",
            "Index(['Marker', 'Inter-spike interval'], dtype='object')\n"
          ]
        }
      ]
    },
    {
      "cell_type": "markdown",
      "source": [
        "What if we want to make all names of columns lowercase? Instead of using `.rename`, we can also set a list of names to the columns like so:"
      ],
      "metadata": {
        "id": "f1YlM8qNNHts"
      }
    },
    {
      "cell_type": "code",
      "source": [
        "cell_types_renamed.columns = ['marker','inter-spike interval']\n",
        "print(cell_types_renamed.columns)"
      ],
      "metadata": {
        "id": "O-u_PBgdNQbT",
        "outputId": "149d4330-f2bb-42db-969b-a8fceda1b7f5",
        "colab": {
          "base_uri": "https://localhost:8080/"
        }
      },
      "execution_count": 42,
      "outputs": [
        {
          "output_type": "stream",
          "name": "stdout",
          "text": [
            "Index(['marker', 'inter-spike interval'], dtype='object')\n"
          ]
        }
      ]
    },
    {
      "cell_type": "markdown",
      "source": [
        "Finally, one really useful Pandas method is `.describe`. Try it out on your `cell_types` DataFrame and see what it returns."
      ],
      "metadata": {
        "id": "XwNnmbc4OYGw"
      }
    },
    {
      "cell_type": "code",
      "source": [
        "# Your code here!\n",
        "cell_types.describe()\n",
        "\n",
        "# I still miss minitab 18..."
      ],
      "metadata": {
        "id": "O-XVzc9UN6ld",
        "outputId": "fdd4def7-f4eb-41a7-dc68-7d67fd285136",
        "colab": {
          "base_uri": "https://localhost:8080/",
          "height": 297
        }
      },
      "execution_count": 43,
      "outputs": [
        {
          "output_type": "execute_result",
          "data": {
            "text/plain": [
              "              ISI\n",
              "count  140.000000\n",
              "mean    38.435714\n",
              "std     31.254401\n",
              "min      5.000000\n",
              "25%     16.000000\n",
              "50%     29.500000\n",
              "75%     55.000000\n",
              "max    225.000000"
            ],
            "text/html": [
              "\n",
              "  <div id=\"df-64a889dd-d9c1-40ea-8f1f-949ed62f13d5\" class=\"colab-df-container\">\n",
              "    <div>\n",
              "<style scoped>\n",
              "    .dataframe tbody tr th:only-of-type {\n",
              "        vertical-align: middle;\n",
              "    }\n",
              "\n",
              "    .dataframe tbody tr th {\n",
              "        vertical-align: top;\n",
              "    }\n",
              "\n",
              "    .dataframe thead th {\n",
              "        text-align: right;\n",
              "    }\n",
              "</style>\n",
              "<table border=\"1\" class=\"dataframe\">\n",
              "  <thead>\n",
              "    <tr style=\"text-align: right;\">\n",
              "      <th></th>\n",
              "      <th>ISI</th>\n",
              "    </tr>\n",
              "  </thead>\n",
              "  <tbody>\n",
              "    <tr>\n",
              "      <th>count</th>\n",
              "      <td>140.000000</td>\n",
              "    </tr>\n",
              "    <tr>\n",
              "      <th>mean</th>\n",
              "      <td>38.435714</td>\n",
              "    </tr>\n",
              "    <tr>\n",
              "      <th>std</th>\n",
              "      <td>31.254401</td>\n",
              "    </tr>\n",
              "    <tr>\n",
              "      <th>min</th>\n",
              "      <td>5.000000</td>\n",
              "    </tr>\n",
              "    <tr>\n",
              "      <th>25%</th>\n",
              "      <td>16.000000</td>\n",
              "    </tr>\n",
              "    <tr>\n",
              "      <th>50%</th>\n",
              "      <td>29.500000</td>\n",
              "    </tr>\n",
              "    <tr>\n",
              "      <th>75%</th>\n",
              "      <td>55.000000</td>\n",
              "    </tr>\n",
              "    <tr>\n",
              "      <th>max</th>\n",
              "      <td>225.000000</td>\n",
              "    </tr>\n",
              "  </tbody>\n",
              "</table>\n",
              "</div>\n",
              "    <div class=\"colab-df-buttons\">\n",
              "\n",
              "  <div class=\"colab-df-container\">\n",
              "    <button class=\"colab-df-convert\" onclick=\"convertToInteractive('df-64a889dd-d9c1-40ea-8f1f-949ed62f13d5')\"\n",
              "            title=\"Convert this dataframe to an interactive table.\"\n",
              "            style=\"display:none;\">\n",
              "\n",
              "  <svg xmlns=\"http://www.w3.org/2000/svg\" height=\"24px\" viewBox=\"0 -960 960 960\">\n",
              "    <path d=\"M120-120v-720h720v720H120Zm60-500h600v-160H180v160Zm220 220h160v-160H400v160Zm0 220h160v-160H400v160ZM180-400h160v-160H180v160Zm440 0h160v-160H620v160ZM180-180h160v-160H180v160Zm440 0h160v-160H620v160Z\"/>\n",
              "  </svg>\n",
              "    </button>\n",
              "\n",
              "  <style>\n",
              "    .colab-df-container {\n",
              "      display:flex;\n",
              "      gap: 12px;\n",
              "    }\n",
              "\n",
              "    .colab-df-convert {\n",
              "      background-color: #E8F0FE;\n",
              "      border: none;\n",
              "      border-radius: 50%;\n",
              "      cursor: pointer;\n",
              "      display: none;\n",
              "      fill: #1967D2;\n",
              "      height: 32px;\n",
              "      padding: 0 0 0 0;\n",
              "      width: 32px;\n",
              "    }\n",
              "\n",
              "    .colab-df-convert:hover {\n",
              "      background-color: #E2EBFA;\n",
              "      box-shadow: 0px 1px 2px rgba(60, 64, 67, 0.3), 0px 1px 3px 1px rgba(60, 64, 67, 0.15);\n",
              "      fill: #174EA6;\n",
              "    }\n",
              "\n",
              "    .colab-df-buttons div {\n",
              "      margin-bottom: 4px;\n",
              "    }\n",
              "\n",
              "    [theme=dark] .colab-df-convert {\n",
              "      background-color: #3B4455;\n",
              "      fill: #D2E3FC;\n",
              "    }\n",
              "\n",
              "    [theme=dark] .colab-df-convert:hover {\n",
              "      background-color: #434B5C;\n",
              "      box-shadow: 0px 1px 3px 1px rgba(0, 0, 0, 0.15);\n",
              "      filter: drop-shadow(0px 1px 2px rgba(0, 0, 0, 0.3));\n",
              "      fill: #FFFFFF;\n",
              "    }\n",
              "  </style>\n",
              "\n",
              "    <script>\n",
              "      const buttonEl =\n",
              "        document.querySelector('#df-64a889dd-d9c1-40ea-8f1f-949ed62f13d5 button.colab-df-convert');\n",
              "      buttonEl.style.display =\n",
              "        google.colab.kernel.accessAllowed ? 'block' : 'none';\n",
              "\n",
              "      async function convertToInteractive(key) {\n",
              "        const element = document.querySelector('#df-64a889dd-d9c1-40ea-8f1f-949ed62f13d5');\n",
              "        const dataTable =\n",
              "          await google.colab.kernel.invokeFunction('convertToInteractive',\n",
              "                                                    [key], {});\n",
              "        if (!dataTable) return;\n",
              "\n",
              "        const docLinkHtml = 'Like what you see? Visit the ' +\n",
              "          '<a target=\"_blank\" href=https://colab.research.google.com/notebooks/data_table.ipynb>data table notebook</a>'\n",
              "          + ' to learn more about interactive tables.';\n",
              "        element.innerHTML = '';\n",
              "        dataTable['output_type'] = 'display_data';\n",
              "        await google.colab.output.renderOutput(dataTable, element);\n",
              "        const docLink = document.createElement('div');\n",
              "        docLink.innerHTML = docLinkHtml;\n",
              "        element.appendChild(docLink);\n",
              "      }\n",
              "    </script>\n",
              "  </div>\n",
              "\n",
              "\n",
              "<div id=\"df-f0c1dbc9-46d3-46a0-a0f6-daa2d121f9b5\">\n",
              "  <button class=\"colab-df-quickchart\" onclick=\"quickchart('df-f0c1dbc9-46d3-46a0-a0f6-daa2d121f9b5')\"\n",
              "            title=\"Suggest charts\"\n",
              "            style=\"display:none;\">\n",
              "\n",
              "<svg xmlns=\"http://www.w3.org/2000/svg\" height=\"24px\"viewBox=\"0 0 24 24\"\n",
              "     width=\"24px\">\n",
              "    <g>\n",
              "        <path d=\"M19 3H5c-1.1 0-2 .9-2 2v14c0 1.1.9 2 2 2h14c1.1 0 2-.9 2-2V5c0-1.1-.9-2-2-2zM9 17H7v-7h2v7zm4 0h-2V7h2v10zm4 0h-2v-4h2v4z\"/>\n",
              "    </g>\n",
              "</svg>\n",
              "  </button>\n",
              "\n",
              "<style>\n",
              "  .colab-df-quickchart {\n",
              "      --bg-color: #E8F0FE;\n",
              "      --fill-color: #1967D2;\n",
              "      --hover-bg-color: #E2EBFA;\n",
              "      --hover-fill-color: #174EA6;\n",
              "      --disabled-fill-color: #AAA;\n",
              "      --disabled-bg-color: #DDD;\n",
              "  }\n",
              "\n",
              "  [theme=dark] .colab-df-quickchart {\n",
              "      --bg-color: #3B4455;\n",
              "      --fill-color: #D2E3FC;\n",
              "      --hover-bg-color: #434B5C;\n",
              "      --hover-fill-color: #FFFFFF;\n",
              "      --disabled-bg-color: #3B4455;\n",
              "      --disabled-fill-color: #666;\n",
              "  }\n",
              "\n",
              "  .colab-df-quickchart {\n",
              "    background-color: var(--bg-color);\n",
              "    border: none;\n",
              "    border-radius: 50%;\n",
              "    cursor: pointer;\n",
              "    display: none;\n",
              "    fill: var(--fill-color);\n",
              "    height: 32px;\n",
              "    padding: 0;\n",
              "    width: 32px;\n",
              "  }\n",
              "\n",
              "  .colab-df-quickchart:hover {\n",
              "    background-color: var(--hover-bg-color);\n",
              "    box-shadow: 0 1px 2px rgba(60, 64, 67, 0.3), 0 1px 3px 1px rgba(60, 64, 67, 0.15);\n",
              "    fill: var(--button-hover-fill-color);\n",
              "  }\n",
              "\n",
              "  .colab-df-quickchart-complete:disabled,\n",
              "  .colab-df-quickchart-complete:disabled:hover {\n",
              "    background-color: var(--disabled-bg-color);\n",
              "    fill: var(--disabled-fill-color);\n",
              "    box-shadow: none;\n",
              "  }\n",
              "\n",
              "  .colab-df-spinner {\n",
              "    border: 2px solid var(--fill-color);\n",
              "    border-color: transparent;\n",
              "    border-bottom-color: var(--fill-color);\n",
              "    animation:\n",
              "      spin 1s steps(1) infinite;\n",
              "  }\n",
              "\n",
              "  @keyframes spin {\n",
              "    0% {\n",
              "      border-color: transparent;\n",
              "      border-bottom-color: var(--fill-color);\n",
              "      border-left-color: var(--fill-color);\n",
              "    }\n",
              "    20% {\n",
              "      border-color: transparent;\n",
              "      border-left-color: var(--fill-color);\n",
              "      border-top-color: var(--fill-color);\n",
              "    }\n",
              "    30% {\n",
              "      border-color: transparent;\n",
              "      border-left-color: var(--fill-color);\n",
              "      border-top-color: var(--fill-color);\n",
              "      border-right-color: var(--fill-color);\n",
              "    }\n",
              "    40% {\n",
              "      border-color: transparent;\n",
              "      border-right-color: var(--fill-color);\n",
              "      border-top-color: var(--fill-color);\n",
              "    }\n",
              "    60% {\n",
              "      border-color: transparent;\n",
              "      border-right-color: var(--fill-color);\n",
              "    }\n",
              "    80% {\n",
              "      border-color: transparent;\n",
              "      border-right-color: var(--fill-color);\n",
              "      border-bottom-color: var(--fill-color);\n",
              "    }\n",
              "    90% {\n",
              "      border-color: transparent;\n",
              "      border-bottom-color: var(--fill-color);\n",
              "    }\n",
              "  }\n",
              "</style>\n",
              "\n",
              "  <script>\n",
              "    async function quickchart(key) {\n",
              "      const quickchartButtonEl =\n",
              "        document.querySelector('#' + key + ' button');\n",
              "      quickchartButtonEl.disabled = true;  // To prevent multiple clicks.\n",
              "      quickchartButtonEl.classList.add('colab-df-spinner');\n",
              "      try {\n",
              "        const charts = await google.colab.kernel.invokeFunction(\n",
              "            'suggestCharts', [key], {});\n",
              "      } catch (error) {\n",
              "        console.error('Error during call to suggestCharts:', error);\n",
              "      }\n",
              "      quickchartButtonEl.classList.remove('colab-df-spinner');\n",
              "      quickchartButtonEl.classList.add('colab-df-quickchart-complete');\n",
              "    }\n",
              "    (() => {\n",
              "      let quickchartButtonEl =\n",
              "        document.querySelector('#df-f0c1dbc9-46d3-46a0-a0f6-daa2d121f9b5 button');\n",
              "      quickchartButtonEl.style.display =\n",
              "        google.colab.kernel.accessAllowed ? 'block' : 'none';\n",
              "    })();\n",
              "  </script>\n",
              "</div>\n",
              "    </div>\n",
              "  </div>\n"
            ]
          },
          "metadata": {},
          "execution_count": 43
        }
      ]
    },
    {
      "cell_type": "markdown",
      "source": [
        "><b>Task:</b> Use the `.describe` method on *just* your `'marker'` column, using the syntax `df['column'].describe()`"
      ],
      "metadata": {
        "id": "vSLrrzXJOyot"
      }
    },
    {
      "cell_type": "code",
      "source": [
        "cell_types['Marker'].describe()"
      ],
      "metadata": {
        "id": "QYWfinErAsjL",
        "outputId": "3274611e-5bf6-44ec-d6bf-651240f8767d",
        "colab": {
          "base_uri": "https://localhost:8080/"
        }
      },
      "execution_count": 45,
      "outputs": [
        {
          "output_type": "execute_result",
          "data": {
            "text/plain": [
              "count       140\n",
              "unique        2\n",
              "top       Pvalb\n",
              "freq         76\n",
              "Name: Marker, dtype: object"
            ]
          },
          "metadata": {},
          "execution_count": 45
        }
      ]
    },
    {
      "cell_type": "markdown",
      "source": [
        "## Indexing DataFrames\n",
        "\n",
        "Up until now we've focused on some basic summaries of our data. Below are the other methods of slicing, selecting, and extracting you'll need to use constantly.\n",
        "\n",
        "It's important to note that, although many methods are the same, DataFrames and Series have different attributes, so you'll need be sure to know which type you are working with or else you will receive attribute errors.\n",
        "\n",
        "Let's look at working with columns first.\n",
        "\n",
        "You already saw how to extract a column using square brackets like this:"
      ],
      "metadata": {
        "id": "UZJnu9gYPFCm"
      }
    },
    {
      "cell_type": "code",
      "source": [
        "ISI_col = cell_types['ISI']\n",
        "\n",
        "type(ISI_col)"
      ],
      "metadata": {
        "id": "Wh9jHUY2Pj7H",
        "outputId": "f10f8631-e579-4ae4-cca9-6ddca70c6ed5",
        "colab": {
          "base_uri": "https://localhost:8080/"
        }
      },
      "execution_count": 46,
      "outputs": [
        {
          "output_type": "execute_result",
          "data": {
            "text/plain": [
              "pandas.core.series.Series"
            ]
          },
          "metadata": {},
          "execution_count": 46
        }
      ]
    },
    {
      "cell_type": "markdown",
      "source": [
        "This will return a Series. To extract a column as a DataFrame, you need to pass a list of column names. In our case that's just a single column:"
      ],
      "metadata": {
        "id": "jO1joN2xP4PJ"
      }
    },
    {
      "cell_type": "code",
      "source": [
        "ISI_col = cell_types[['ISI']]\n",
        "\n",
        "type(ISI_col)"
      ],
      "metadata": {
        "id": "ClTcGgrOP672",
        "outputId": "24820fdb-d25b-4093-97a1-4280a1398f9c",
        "colab": {
          "base_uri": "https://localhost:8080/"
        }
      },
      "execution_count": 47,
      "outputs": [
        {
          "output_type": "execute_result",
          "data": {
            "text/plain": [
              "pandas.core.frame.DataFrame"
            ]
          },
          "metadata": {},
          "execution_count": 47
        }
      ]
    },
    {
      "cell_type": "markdown",
      "source": [
        "For rows, we have two options:\n",
        "\n",
        "* `.loc` - **loc**ates by name\n",
        "* `.iloc`- **loc**ates by numerical **i**ndex\n",
        "\n",
        "Our rows aren't indexed by name (rows still correspond to numbered indices in our DataFrame), so we can use numbers for each method:"
      ],
      "metadata": {
        "id": "-hqDtEIiQOsp"
      }
    },
    {
      "cell_type": "code",
      "source": [
        "print(cell_types.loc[0])\n",
        "print(cell_types.iloc[0])"
      ],
      "metadata": {
        "id": "ANUWuTw5Qj2A",
        "outputId": "a5d1cb9a-f3a1-4d28-e13a-4852b12718b0",
        "colab": {
          "base_uri": "https://localhost:8080/"
        }
      },
      "execution_count": 48,
      "outputs": [
        {
          "output_type": "stream",
          "name": "stdout",
          "text": [
            "Marker     Sst\n",
            "ISI       77.0\n",
            "Name: 0, dtype: object\n",
            "Marker     Sst\n",
            "ISI       77.0\n",
            "Name: 0, dtype: object\n"
          ]
        }
      ]
    },
    {
      "cell_type": "markdown",
      "source": [
        "`.loc` and `.iloc` can be thought of as similar to Python list slicing. To show this even further, let's select multiple rows.\n",
        "\n",
        "How would you do it with a list? In Python, just slice with brackets like `example_list[1:4]`. It's works the same way in Pandas:"
      ],
      "metadata": {
        "id": "mUqdzE2QRIfm"
      }
    },
    {
      "cell_type": "code",
      "source": [
        "print(cell_types.loc[1:4])\n",
        "print(cell_types.iloc[1:4])"
      ],
      "metadata": {
        "id": "8VovN9B1RPa4",
        "outputId": "a1af0df8-6562-4af0-91d5-add29b44b4c3",
        "colab": {
          "base_uri": "https://localhost:8080/"
        }
      },
      "execution_count": 49,
      "outputs": [
        {
          "output_type": "stream",
          "name": "stdout",
          "text": [
            "  Marker   ISI\n",
            "1    Sst  44.0\n",
            "2    Sst   8.0\n",
            "3    Sst  73.0\n",
            "4    Sst  64.0\n",
            "  Marker   ISI\n",
            "1    Sst  44.0\n",
            "2    Sst   8.0\n",
            "3    Sst  73.0\n"
          ]
        }
      ]
    },
    {
      "cell_type": "markdown",
      "source": [
        ">Question: Do you notice any differences in output between `.loc` and `.iloc` when slicing rows?"
      ],
      "metadata": {
        "id": "gT_ikC-YRgCo"
      }
    },
    {
      "cell_type": "code",
      "source": [
        "#.iloc does not include the stop value whereas .loc is inclusive"
      ],
      "metadata": {
        "id": "V5zoMVzaBm3d"
      },
      "execution_count": null,
      "outputs": []
    },
    {
      "cell_type": "markdown",
      "source": [
        "To access a value in a specific row and a specific column, you can use `.iloc[row,column]`:"
      ],
      "metadata": {
        "id": "fIDJkGIuVORT"
      }
    },
    {
      "cell_type": "code",
      "source": [
        "cell_types.iloc[0,1]"
      ],
      "metadata": {
        "id": "42gWABTiVH3s",
        "outputId": "e78029b0-153a-4684-a41e-e5b13a6db756",
        "colab": {
          "base_uri": "https://localhost:8080/"
        }
      },
      "execution_count": 52,
      "outputs": [
        {
          "output_type": "execute_result",
          "data": {
            "text/plain": [
              "77.0"
            ]
          },
          "metadata": {},
          "execution_count": 52
        }
      ]
    },
    {
      "cell_type": "markdown",
      "source": [
        "You can also use Booleans to filter your DataFrame. We already did one example of this in this notebook - we filtered only rows that contain the string `'Pvalb'` out of our DataFrame with the syntax `df[df['column name'] == \"value\"]`. We can use other comparison operators to accomplish the same goal. A list of Boolean comparison operators in Python is below:\n",
        "\n",
        "| Operation | Meaning |\n",
        "|:---------:|:-------:|\n",
        "|   <       |strictly less than|\n",
        "| <=      | less than or equal|\n",
        "|   >     |strictly greater than|\n",
        "|  >=   |greater than or equal|\n",
        "|  ==  |equal|\n",
        "| !=  |not equal|\n",
        "\n"
      ],
      "metadata": {
        "id": "29HGYtI7RmIv"
      }
    },
    {
      "cell_type": "markdown",
      "source": [
        "><b>Task:</b> Create a new variable that contains ISI values greater than or equal to 5. Create a new variable that contains ISI values less than or equal to 7. Create a new variable that contains ISI values that are not equal to 10."
      ],
      "metadata": {
        "id": "e_mJv-V2UAPB"
      }
    },
    {
      "cell_type": "code",
      "source": [
        "up_isi = cell_types[cell_types['ISI'] >= 5]\n",
        "down_isi = cell_types[cell_types['ISI'] <= 7]\n",
        "not_isi = cell_types[cell_types['ISI'] != 10]"
      ],
      "metadata": {
        "id": "h5G-32xTB_am"
      },
      "execution_count": 59,
      "outputs": []
    },
    {
      "cell_type": "markdown",
      "source": [
        "We can make some richer conditionals by using logical operators `|` for \"or\" and `&` for \"and\"."
      ],
      "metadata": {
        "id": "Jqf5NRYoUrMP"
      }
    },
    {
      "cell_type": "code",
      "source": [
        "types_temp = cell_types[(cell_types['Marker'] == \"Pvalb\") & (cell_types['ISI'] > 4)]\n",
        "print(types_temp)"
      ],
      "metadata": {
        "id": "a3qTYjfTVnP9",
        "outputId": "3a17768b-0220-45c2-b9da-5bc940c348e9",
        "colab": {
          "base_uri": "https://localhost:8080/"
        }
      },
      "execution_count": 60,
      "outputs": [
        {
          "output_type": "stream",
          "name": "stdout",
          "text": [
            "    Marker   ISI\n",
            "64   Pvalb  22.0\n",
            "65   Pvalb   9.0\n",
            "66   Pvalb  19.0\n",
            "67   Pvalb  13.0\n",
            "68   Pvalb   8.0\n",
            "..     ...   ...\n",
            "135  Pvalb  11.0\n",
            "136  Pvalb  18.0\n",
            "137  Pvalb  10.0\n",
            "138  Pvalb  12.0\n",
            "139  Pvalb  23.0\n",
            "\n",
            "[76 rows x 2 columns]\n"
          ]
        }
      ]
    },
    {
      "cell_type": "markdown",
      "source": [
        "><b>Task:</b> Create a new DataFrame with the following attributes:\n",
        "\n",
        "* Must only contain ISI values from somatostatin interneurons\n",
        "* ISI values must be less than 2, **or** greater than 8\n",
        "* Verify that you did this correctly by creating a second DataFrame that contains ISI values from your first DataFrame that are greater than 2, **or** less than 8"
      ],
      "metadata": {
        "id": "L62dFaapWRGY"
      }
    },
    {
      "cell_type": "code",
      "source": [
        "new_types = cell_types[(cell_types['Marker'] == \"Sst\") & ((cell_types['ISI'] > 2) | (cell_types['ISI'] > 8))]\n",
        "new_types"
      ],
      "metadata": {
        "id": "WqxBycoXCwMb",
        "outputId": "f7953276-f403-4abe-ea4f-3db8b6bbebed",
        "colab": {
          "base_uri": "https://localhost:8080/",
          "height": 419
        }
      },
      "execution_count": 65,
      "outputs": [
        {
          "output_type": "execute_result",
          "data": {
            "text/plain": [
              "   Marker    ISI\n",
              "0     Sst   77.0\n",
              "1     Sst   44.0\n",
              "2     Sst    8.0\n",
              "3     Sst   73.0\n",
              "4     Sst   64.0\n",
              "..    ...    ...\n",
              "59    Sst   41.0\n",
              "60    Sst   77.0\n",
              "61    Sst   51.0\n",
              "62    Sst  106.0\n",
              "63    Sst   70.0\n",
              "\n",
              "[64 rows x 2 columns]"
            ],
            "text/html": [
              "\n",
              "  <div id=\"df-8b3bab23-1748-43ab-969d-b3ec23fc1d40\" class=\"colab-df-container\">\n",
              "    <div>\n",
              "<style scoped>\n",
              "    .dataframe tbody tr th:only-of-type {\n",
              "        vertical-align: middle;\n",
              "    }\n",
              "\n",
              "    .dataframe tbody tr th {\n",
              "        vertical-align: top;\n",
              "    }\n",
              "\n",
              "    .dataframe thead th {\n",
              "        text-align: right;\n",
              "    }\n",
              "</style>\n",
              "<table border=\"1\" class=\"dataframe\">\n",
              "  <thead>\n",
              "    <tr style=\"text-align: right;\">\n",
              "      <th></th>\n",
              "      <th>Marker</th>\n",
              "      <th>ISI</th>\n",
              "    </tr>\n",
              "  </thead>\n",
              "  <tbody>\n",
              "    <tr>\n",
              "      <th>0</th>\n",
              "      <td>Sst</td>\n",
              "      <td>77.0</td>\n",
              "    </tr>\n",
              "    <tr>\n",
              "      <th>1</th>\n",
              "      <td>Sst</td>\n",
              "      <td>44.0</td>\n",
              "    </tr>\n",
              "    <tr>\n",
              "      <th>2</th>\n",
              "      <td>Sst</td>\n",
              "      <td>8.0</td>\n",
              "    </tr>\n",
              "    <tr>\n",
              "      <th>3</th>\n",
              "      <td>Sst</td>\n",
              "      <td>73.0</td>\n",
              "    </tr>\n",
              "    <tr>\n",
              "      <th>4</th>\n",
              "      <td>Sst</td>\n",
              "      <td>64.0</td>\n",
              "    </tr>\n",
              "    <tr>\n",
              "      <th>...</th>\n",
              "      <td>...</td>\n",
              "      <td>...</td>\n",
              "    </tr>\n",
              "    <tr>\n",
              "      <th>59</th>\n",
              "      <td>Sst</td>\n",
              "      <td>41.0</td>\n",
              "    </tr>\n",
              "    <tr>\n",
              "      <th>60</th>\n",
              "      <td>Sst</td>\n",
              "      <td>77.0</td>\n",
              "    </tr>\n",
              "    <tr>\n",
              "      <th>61</th>\n",
              "      <td>Sst</td>\n",
              "      <td>51.0</td>\n",
              "    </tr>\n",
              "    <tr>\n",
              "      <th>62</th>\n",
              "      <td>Sst</td>\n",
              "      <td>106.0</td>\n",
              "    </tr>\n",
              "    <tr>\n",
              "      <th>63</th>\n",
              "      <td>Sst</td>\n",
              "      <td>70.0</td>\n",
              "    </tr>\n",
              "  </tbody>\n",
              "</table>\n",
              "<p>64 rows × 2 columns</p>\n",
              "</div>\n",
              "    <div class=\"colab-df-buttons\">\n",
              "\n",
              "  <div class=\"colab-df-container\">\n",
              "    <button class=\"colab-df-convert\" onclick=\"convertToInteractive('df-8b3bab23-1748-43ab-969d-b3ec23fc1d40')\"\n",
              "            title=\"Convert this dataframe to an interactive table.\"\n",
              "            style=\"display:none;\">\n",
              "\n",
              "  <svg xmlns=\"http://www.w3.org/2000/svg\" height=\"24px\" viewBox=\"0 -960 960 960\">\n",
              "    <path d=\"M120-120v-720h720v720H120Zm60-500h600v-160H180v160Zm220 220h160v-160H400v160Zm0 220h160v-160H400v160ZM180-400h160v-160H180v160Zm440 0h160v-160H620v160ZM180-180h160v-160H180v160Zm440 0h160v-160H620v160Z\"/>\n",
              "  </svg>\n",
              "    </button>\n",
              "\n",
              "  <style>\n",
              "    .colab-df-container {\n",
              "      display:flex;\n",
              "      gap: 12px;\n",
              "    }\n",
              "\n",
              "    .colab-df-convert {\n",
              "      background-color: #E8F0FE;\n",
              "      border: none;\n",
              "      border-radius: 50%;\n",
              "      cursor: pointer;\n",
              "      display: none;\n",
              "      fill: #1967D2;\n",
              "      height: 32px;\n",
              "      padding: 0 0 0 0;\n",
              "      width: 32px;\n",
              "    }\n",
              "\n",
              "    .colab-df-convert:hover {\n",
              "      background-color: #E2EBFA;\n",
              "      box-shadow: 0px 1px 2px rgba(60, 64, 67, 0.3), 0px 1px 3px 1px rgba(60, 64, 67, 0.15);\n",
              "      fill: #174EA6;\n",
              "    }\n",
              "\n",
              "    .colab-df-buttons div {\n",
              "      margin-bottom: 4px;\n",
              "    }\n",
              "\n",
              "    [theme=dark] .colab-df-convert {\n",
              "      background-color: #3B4455;\n",
              "      fill: #D2E3FC;\n",
              "    }\n",
              "\n",
              "    [theme=dark] .colab-df-convert:hover {\n",
              "      background-color: #434B5C;\n",
              "      box-shadow: 0px 1px 3px 1px rgba(0, 0, 0, 0.15);\n",
              "      filter: drop-shadow(0px 1px 2px rgba(0, 0, 0, 0.3));\n",
              "      fill: #FFFFFF;\n",
              "    }\n",
              "  </style>\n",
              "\n",
              "    <script>\n",
              "      const buttonEl =\n",
              "        document.querySelector('#df-8b3bab23-1748-43ab-969d-b3ec23fc1d40 button.colab-df-convert');\n",
              "      buttonEl.style.display =\n",
              "        google.colab.kernel.accessAllowed ? 'block' : 'none';\n",
              "\n",
              "      async function convertToInteractive(key) {\n",
              "        const element = document.querySelector('#df-8b3bab23-1748-43ab-969d-b3ec23fc1d40');\n",
              "        const dataTable =\n",
              "          await google.colab.kernel.invokeFunction('convertToInteractive',\n",
              "                                                    [key], {});\n",
              "        if (!dataTable) return;\n",
              "\n",
              "        const docLinkHtml = 'Like what you see? Visit the ' +\n",
              "          '<a target=\"_blank\" href=https://colab.research.google.com/notebooks/data_table.ipynb>data table notebook</a>'\n",
              "          + ' to learn more about interactive tables.';\n",
              "        element.innerHTML = '';\n",
              "        dataTable['output_type'] = 'display_data';\n",
              "        await google.colab.output.renderOutput(dataTable, element);\n",
              "        const docLink = document.createElement('div');\n",
              "        docLink.innerHTML = docLinkHtml;\n",
              "        element.appendChild(docLink);\n",
              "      }\n",
              "    </script>\n",
              "  </div>\n",
              "\n",
              "\n",
              "<div id=\"df-fd3065e7-21a8-4eba-9472-83d70cea5545\">\n",
              "  <button class=\"colab-df-quickchart\" onclick=\"quickchart('df-fd3065e7-21a8-4eba-9472-83d70cea5545')\"\n",
              "            title=\"Suggest charts\"\n",
              "            style=\"display:none;\">\n",
              "\n",
              "<svg xmlns=\"http://www.w3.org/2000/svg\" height=\"24px\"viewBox=\"0 0 24 24\"\n",
              "     width=\"24px\">\n",
              "    <g>\n",
              "        <path d=\"M19 3H5c-1.1 0-2 .9-2 2v14c0 1.1.9 2 2 2h14c1.1 0 2-.9 2-2V5c0-1.1-.9-2-2-2zM9 17H7v-7h2v7zm4 0h-2V7h2v10zm4 0h-2v-4h2v4z\"/>\n",
              "    </g>\n",
              "</svg>\n",
              "  </button>\n",
              "\n",
              "<style>\n",
              "  .colab-df-quickchart {\n",
              "      --bg-color: #E8F0FE;\n",
              "      --fill-color: #1967D2;\n",
              "      --hover-bg-color: #E2EBFA;\n",
              "      --hover-fill-color: #174EA6;\n",
              "      --disabled-fill-color: #AAA;\n",
              "      --disabled-bg-color: #DDD;\n",
              "  }\n",
              "\n",
              "  [theme=dark] .colab-df-quickchart {\n",
              "      --bg-color: #3B4455;\n",
              "      --fill-color: #D2E3FC;\n",
              "      --hover-bg-color: #434B5C;\n",
              "      --hover-fill-color: #FFFFFF;\n",
              "      --disabled-bg-color: #3B4455;\n",
              "      --disabled-fill-color: #666;\n",
              "  }\n",
              "\n",
              "  .colab-df-quickchart {\n",
              "    background-color: var(--bg-color);\n",
              "    border: none;\n",
              "    border-radius: 50%;\n",
              "    cursor: pointer;\n",
              "    display: none;\n",
              "    fill: var(--fill-color);\n",
              "    height: 32px;\n",
              "    padding: 0;\n",
              "    width: 32px;\n",
              "  }\n",
              "\n",
              "  .colab-df-quickchart:hover {\n",
              "    background-color: var(--hover-bg-color);\n",
              "    box-shadow: 0 1px 2px rgba(60, 64, 67, 0.3), 0 1px 3px 1px rgba(60, 64, 67, 0.15);\n",
              "    fill: var(--button-hover-fill-color);\n",
              "  }\n",
              "\n",
              "  .colab-df-quickchart-complete:disabled,\n",
              "  .colab-df-quickchart-complete:disabled:hover {\n",
              "    background-color: var(--disabled-bg-color);\n",
              "    fill: var(--disabled-fill-color);\n",
              "    box-shadow: none;\n",
              "  }\n",
              "\n",
              "  .colab-df-spinner {\n",
              "    border: 2px solid var(--fill-color);\n",
              "    border-color: transparent;\n",
              "    border-bottom-color: var(--fill-color);\n",
              "    animation:\n",
              "      spin 1s steps(1) infinite;\n",
              "  }\n",
              "\n",
              "  @keyframes spin {\n",
              "    0% {\n",
              "      border-color: transparent;\n",
              "      border-bottom-color: var(--fill-color);\n",
              "      border-left-color: var(--fill-color);\n",
              "    }\n",
              "    20% {\n",
              "      border-color: transparent;\n",
              "      border-left-color: var(--fill-color);\n",
              "      border-top-color: var(--fill-color);\n",
              "    }\n",
              "    30% {\n",
              "      border-color: transparent;\n",
              "      border-left-color: var(--fill-color);\n",
              "      border-top-color: var(--fill-color);\n",
              "      border-right-color: var(--fill-color);\n",
              "    }\n",
              "    40% {\n",
              "      border-color: transparent;\n",
              "      border-right-color: var(--fill-color);\n",
              "      border-top-color: var(--fill-color);\n",
              "    }\n",
              "    60% {\n",
              "      border-color: transparent;\n",
              "      border-right-color: var(--fill-color);\n",
              "    }\n",
              "    80% {\n",
              "      border-color: transparent;\n",
              "      border-right-color: var(--fill-color);\n",
              "      border-bottom-color: var(--fill-color);\n",
              "    }\n",
              "    90% {\n",
              "      border-color: transparent;\n",
              "      border-bottom-color: var(--fill-color);\n",
              "    }\n",
              "  }\n",
              "</style>\n",
              "\n",
              "  <script>\n",
              "    async function quickchart(key) {\n",
              "      const quickchartButtonEl =\n",
              "        document.querySelector('#' + key + ' button');\n",
              "      quickchartButtonEl.disabled = true;  // To prevent multiple clicks.\n",
              "      quickchartButtonEl.classList.add('colab-df-spinner');\n",
              "      try {\n",
              "        const charts = await google.colab.kernel.invokeFunction(\n",
              "            'suggestCharts', [key], {});\n",
              "      } catch (error) {\n",
              "        console.error('Error during call to suggestCharts:', error);\n",
              "      }\n",
              "      quickchartButtonEl.classList.remove('colab-df-spinner');\n",
              "      quickchartButtonEl.classList.add('colab-df-quickchart-complete');\n",
              "    }\n",
              "    (() => {\n",
              "      let quickchartButtonEl =\n",
              "        document.querySelector('#df-fd3065e7-21a8-4eba-9472-83d70cea5545 button');\n",
              "      quickchartButtonEl.style.display =\n",
              "        google.colab.kernel.accessAllowed ? 'block' : 'none';\n",
              "    })();\n",
              "  </script>\n",
              "</div>\n",
              "    </div>\n",
              "  </div>\n"
            ]
          },
          "metadata": {},
          "execution_count": 65
        }
      ]
    }
  ]
}